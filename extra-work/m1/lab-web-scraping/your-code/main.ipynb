{
 "cells": [
  {
   "cell_type": "markdown",
   "metadata": {},
   "source": [
    "# Web Scraping Lab\n",
    "\n",
    "You will find in this notebook some scrapy exercises to practise your scraping skills.\n",
    "\n",
    "**Tips:**\n",
    "\n",
    "- Check the response status code for each request to ensure you have obtained the intended content.\n",
    "- Print the response text in each request to understand the kind of info you are getting and its format.\n",
    "- Check for patterns in the response text to extract the data/info requested in each question.\n",
    "- Visit the urls below and take a look at their source code through Chrome DevTools. You'll need to identify the html tags, special class names, etc used in the html content you are expected to extract.\n",
    "\n",
    "**Resources**:\n",
    "- [Requests library](http://docs.python-requests.org/en/master/#the-user-guide)\n",
    "- [Beautiful Soup Doc](https://www.crummy.com/software/BeautifulSoup/bs4/doc/)\n",
    "- [Urllib](https://docs.python.org/3/library/urllib.html#module-urllib)\n",
    "- [re lib](https://docs.python.org/3/library/re.html)\n",
    "- [lxml lib](https://lxml.de/)\n",
    "- [Scrapy](https://scrapy.org/)\n",
    "- [List of HTTP status codes](https://en.wikipedia.org/wiki/List_of_HTTP_status_codes)\n",
    "- [HTML basics](http://www.simplehtmlguide.com/cheatsheet.php)\n",
    "- [CSS basics](https://www.cssbasics.com/#page_start)"
   ]
  },
  {
   "cell_type": "markdown",
   "metadata": {},
   "source": [
    "#### Below are the libraries and modules you may need. `requests`,  `BeautifulSoup` and `pandas` are already imported for you. If you prefer to use additional libraries feel free to do it."
   ]
  },
  {
   "cell_type": "code",
   "execution_count": 1,
   "metadata": {},
   "outputs": [],
   "source": [
    "import requests\n",
    "from bs4 import BeautifulSoup\n",
    "import pandas as pd\n",
    "import re\n",
    "from urllib.request import urlopen"
   ]
  },
  {
   "cell_type": "markdown",
   "metadata": {},
   "source": [
    "#### Download, parse (using BeautifulSoup), and print the content from the Trending Developers page from GitHub:"
   ]
  },
  {
   "cell_type": "code",
   "execution_count": 2,
   "metadata": {},
   "outputs": [],
   "source": [
    "# This is the url you will scrape in this exercise\n",
    "url = 'https://github.com/trending/developers'"
   ]
  },
  {
   "cell_type": "code",
   "execution_count": 3,
   "metadata": {},
   "outputs": [],
   "source": [
    "# your code here\n",
    "get_html = requests.get(url).content\n",
    "soup = BeautifulSoup(get_html, 'lxml')"
   ]
  },
  {
   "cell_type": "markdown",
   "metadata": {},
   "source": [
    "#### Display the names of the trending developers retrieved in the previous step.\n",
    "\n",
    "Your output should be a Python list of developer names. Each name should not contain any html tag.\n",
    "\n",
    "**Instructions:**\n",
    "\n",
    "1. Find out the html tag and class names used for the developer names. You can achieve this using Chrome DevTools.\n",
    "\n",
    "1. Use BeautifulSoup to extract all the html elements that contain the developer names.\n",
    "\n",
    "1. Use string manipulation techniques to replace whitespaces and linebreaks (i.e. `\\n`) in the *text* of each html element. Use a list to store the clean names.\n",
    "\n",
    "1. Print the list of names.\n",
    "\n",
    "Your output should look like below:\n",
    "\n",
    "```\n",
    "['trimstray (@trimstray)',\n",
    " 'joewalnes (JoeWalnes)',\n",
    " 'charlax (Charles-AxelDein)',\n",
    " 'ForrestKnight (ForrestKnight)',\n",
    " 'revery-ui (revery-ui)',\n",
    " 'alibaba (Alibaba)',\n",
    " 'Microsoft (Microsoft)',\n",
    " 'github (GitHub)',\n",
    " 'facebook (Facebook)',\n",
    " 'boazsegev (Bo)',\n",
    " 'google (Google)',\n",
    " 'cloudfetch',\n",
    " 'sindresorhus (SindreSorhus)',\n",
    " 'tensorflow',\n",
    " 'apache (TheApacheSoftwareFoundation)',\n",
    " 'DevonCrawford (DevonCrawford)',\n",
    " 'ARMmbed (ArmMbed)',\n",
    " 'vuejs (vuejs)',\n",
    " 'fastai (fast.ai)',\n",
    " 'QiShaoXuan (Qi)',\n",
    " 'joelparkerhenderson (JoelParkerHenderson)',\n",
    " 'torvalds (LinusTorvalds)',\n",
    " 'CyC2018',\n",
    " 'komeiji-satori (神楽坂覚々)',\n",
    " 'script-8']\n",
    " ```"
   ]
  },
  {
   "cell_type": "code",
   "execution_count": null,
   "metadata": {},
   "outputs": [],
   "source": [
    "# your code here\n",
    "table = soup.find_all('h1', {'class': 'h3 lh-condensed'})\n",
    "table_parsed = [row.text for row in table]"
   ]
  },
  {
   "cell_type": "code",
   "execution_count": null,
   "metadata": {},
   "outputs": [],
   "source": [
    "table_formatted = [re.findall('[aA-zZ ]', t) for t in table_parsed]\n",
    "table_formatted = [\"\".join(char) for char in table_formatted]\n",
    "table_formatted = [t.strip() for t in table_formatted]\n",
    "\n",
    "[table_formatted.remove(st) for st in table_formatted if len(st)==0]\n",
    "table_formatted"
   ]
  },
  {
   "cell_type": "markdown",
   "metadata": {},
   "source": [
    "#### Display the trending Python repositories in GitHub.\n",
    "\n",
    "The steps to solve this problem is similar to the previous one except that you need to find out the repository names instead of developer names."
   ]
  },
  {
   "cell_type": "code",
   "execution_count": null,
   "metadata": {},
   "outputs": [],
   "source": [
    "# This is the url you will scrape in this exercise\n",
    "url = 'https://github.com/trending/python?since=daily'\n",
    "get_html = requests.get(url).content\n",
    "soup = BeautifulSoup(get_html, 'lxml')"
   ]
  },
  {
   "cell_type": "code",
   "execution_count": null,
   "metadata": {},
   "outputs": [],
   "source": [
    "# your code here\n",
    "table = soup.find_all('h1', {'class': 'h3 lh-condensed'})\n",
    "table_parsed = [row.text for row in table]\n",
    "table_formatted = [re.findall('[aA-zZ/]', t) for t in table_parsed]\n",
    "table_formatted = [\"\".join(char) for char in table_formatted]\n",
    "table_formatted = [t.strip() for t in table_formatted]\n",
    "table_formatted"
   ]
  },
  {
   "cell_type": "markdown",
   "metadata": {},
   "source": [
    "#### Display all the image links from Walt Disney wikipedia page."
   ]
  },
  {
   "cell_type": "code",
   "execution_count": 4,
   "metadata": {},
   "outputs": [],
   "source": [
    "# This is the url you will scrape in this exercise\n",
    "url = 'https://en.wikipedia.org/wiki/Walt_Disney'\n",
    "get_html = requests.get(url).content\n",
    "soup = BeautifulSoup(get_html, 'lxml')"
   ]
  },
  {
   "cell_type": "code",
   "execution_count": 5,
   "metadata": {},
   "outputs": [],
   "source": [
    "# your code here\n",
    "imgs = soup.find_all('a', {'class':'image'})\n",
    "hrefs_srcs = [img['href'] for img in imgs]\n",
    "wiki_url = 'https://en.wikipedia.org'\n",
    "\n",
    "links = [wiki_url+i for i in hrefs_srcs]"
   ]
  },
  {
   "cell_type": "code",
   "execution_count": 6,
   "metadata": {},
   "outputs": [
    {
     "data": {
      "text/plain": [
       "['https://en.wikipedia.org/wiki/File:Walt_Disney_1946.JPG',\n",
       " 'https://en.wikipedia.org/wiki/File:Walt_Disney_1942_signature.svg',\n",
       " 'https://en.wikipedia.org/wiki/File:Walt_Disney_envelope_ca._1921.jpg',\n",
       " 'https://en.wikipedia.org/wiki/File:Trolley_Troubles_poster.jpg',\n",
       " 'https://en.wikipedia.org/wiki/File:Walt_Disney_and_his_cartoon_creation_%22Mickey_Mouse%22_-_National_Board_of_Review_Magazine.jpg',\n",
       " 'https://en.wikipedia.org/wiki/File:Steamboat-willie.jpg',\n",
       " 'https://en.wikipedia.org/wiki/File:Walt_Disney_1935.jpg',\n",
       " 'https://en.wikipedia.org/wiki/File:Walt_Disney_Snow_white_1937_trailer_screenshot_(13).jpg',\n",
       " 'https://en.wikipedia.org/wiki/File:Disney_drawing_goofy.jpg',\n",
       " 'https://en.wikipedia.org/wiki/File:DisneySchiphol1951.jpg',\n",
       " 'https://en.wikipedia.org/wiki/File:WaltDisneyplansDisneylandDec1954.jpg',\n",
       " 'https://en.wikipedia.org/wiki/File:Walt_disney_portrait_right.jpg',\n",
       " 'https://en.wikipedia.org/wiki/File:Walt_Disney_Grave.JPG',\n",
       " 'https://en.wikipedia.org/wiki/File:Roy_O._Disney_with_Company_at_Press_Conference.jpg',\n",
       " 'https://en.wikipedia.org/wiki/File:Disney_Display_Case.JPG',\n",
       " 'https://en.wikipedia.org/wiki/File:Disney1968.jpg',\n",
       " 'https://en.wikipedia.org/wiki/File:The_Walt_Disney_Company_Logo.svg',\n",
       " 'https://en.wikipedia.org/wiki/File:Animation_disc.svg',\n",
       " 'https://en.wikipedia.org/wiki/File:P_vip.svg',\n",
       " 'https://en.wikipedia.org/wiki/File:Magic_Kingdom_castle.jpg',\n",
       " 'https://en.wikipedia.org/wiki/File:Video-x-generic.svg',\n",
       " 'https://en.wikipedia.org/wiki/File:Flag_of_Los_Angeles_County,_California.svg',\n",
       " 'https://en.wikipedia.org/wiki/File:Blank_television_set.svg',\n",
       " 'https://en.wikipedia.org/wiki/File:Flag_of_the_United_States.svg']"
      ]
     },
     "execution_count": 6,
     "metadata": {},
     "output_type": "execute_result"
    }
   ],
   "source": [
    "links"
   ]
  },
  {
   "cell_type": "markdown",
   "metadata": {},
   "source": [
    "#### Retrieve an arbitary Wikipedia page of \"Python\" and create a list of links on that page."
   ]
  },
  {
   "cell_type": "code",
   "execution_count": 7,
   "metadata": {},
   "outputs": [],
   "source": [
    "# This is the url you will scrape in this exercise\n",
    "url ='https://en.wikipedia.org/wiki/Python'\n",
    "get_html = requests.get(url).content\n",
    "soup = BeautifulSoup(get_html, 'lxml')"
   ]
  },
  {
   "cell_type": "code",
   "execution_count": 10,
   "metadata": {},
   "outputs": [
    {
     "data": {
      "text/plain": [
       "['#mw-head',\n",
       " '#p-search',\n",
       " 'https://en.wiktionary.org/wiki/Python',\n",
       " 'https://en.wiktionary.org/wiki/python',\n",
       " '#Snakes',\n",
       " '#Ancient_Greece',\n",
       " '#Media_and_entertainment',\n",
       " '#Computing',\n",
       " '#Engineering',\n",
       " '#Roller_coasters']"
      ]
     },
     "execution_count": 10,
     "metadata": {},
     "output_type": "execute_result"
    }
   ],
   "source": [
    "html = urlopen(\"https://en.wikipedia.org/wiki/Python\")\n",
    "soup = BeautifulSoup(html)\n",
    "\n",
    "list_links = [link.attrs['href'] for link in soup.find_all(\"a\", href=True) if 'href' in link.attrs]\n",
    "list_links[0:10]"
   ]
  },
  {
   "cell_type": "code",
   "execution_count": 11,
   "metadata": {},
   "outputs": [
    {
     "data": {
      "text/plain": [
       "['https://en.wikipedia.org/wiki/Pythonidae',\n",
       " 'https://en.wikipedia.org/wiki/Python_(genus)',\n",
       " 'https://en.wikipedia.org/wiki/Python_(mythology)',\n",
       " 'https://en.wikipedia.org/wiki/Python_of_Aenus',\n",
       " 'https://en.wikipedia.org/wiki/Python_(painter)',\n",
       " 'https://en.wikipedia.org/wiki/Python_of_Byzantium',\n",
       " 'https://en.wikipedia.org/wiki/Python_of_Catana',\n",
       " 'https://en.wikipedia.org/wiki/Python_(film)',\n",
       " 'https://en.wikipedia.org/wiki/Pythons_2',\n",
       " 'https://en.wikipedia.org/wiki/Monty_Python']"
      ]
     },
     "execution_count": 11,
     "metadata": {},
     "output_type": "execute_result"
    }
   ],
   "source": [
    "hrefs = soup.find_all('a', href=True)\n",
    "hrefs_srcs = [ref['href'] for ref in hrefs if ref.text != \"edit\"]\n",
    "wiki_url = 'https://en.wikipedia.org'\n",
    "\n",
    "links = [wiki_url+i for i in hrefs_srcs if i[:5]==\"/wiki\"]\n",
    "links[0:10]"
   ]
  },
  {
   "cell_type": "markdown",
   "metadata": {},
   "source": [
    "#### Find the number of titles that have changed in the United States Code since its last release point."
   ]
  },
  {
   "cell_type": "code",
   "execution_count": 12,
   "metadata": {},
   "outputs": [],
   "source": [
    "# This is the url you will scrape in this exercise\n",
    "## FInd bold titles\n",
    "url = 'http://uscode.house.gov/download/download.shtml'\n",
    "get_html = requests.get(url).content\n",
    "soup = BeautifulSoup(get_html, 'lxml')"
   ]
  },
  {
   "cell_type": "code",
   "execution_count": 16,
   "metadata": {},
   "outputs": [
    {
     "data": {
      "text/plain": [
       "['Title 6 - Domestic Security',\n",
       " 'Title 7 - Agriculture',\n",
       " 'Title 8 - Aliens and Nationality',\n",
       " 'Title 15 - Commerce and Trade',\n",
       " 'Title 17 - Copyrights ٭',\n",
       " 'Title 19 - Customs Duties',\n",
       " 'Title 22 - Foreign Relations and Intercourse',\n",
       " 'Title 26 - Internal Revenue Code',\n",
       " 'Title 28 - Judiciary and Judicial Procedure ٭',\n",
       " \"Title 38 - Veterans' Benefits ٭\",\n",
       " 'Title 42 - The Public Health and Welfare']"
      ]
     },
     "execution_count": 16,
     "metadata": {},
     "output_type": "execute_result"
    }
   ],
   "source": [
    "changed_titles_code = soup.find_all('div', {'class': 'usctitlechanged'})\n",
    "changed_titles_parsed = [row.text for row in changed_titles_code]\n",
    "changed_titles_text = [\"\".join(re.findall('[^\\n]', t)).strip() for t in changed_titles_parsed]\n",
    "changed_titles_text"
   ]
  },
  {
   "cell_type": "markdown",
   "metadata": {},
   "source": [
    "#### Find a Python list with the top ten FBI's Most Wanted names."
   ]
  },
  {
   "cell_type": "code",
   "execution_count": 32,
   "metadata": {},
   "outputs": [],
   "source": [
    "# This is the url you will scrape in this exercise\n",
    "url = 'https://www.fbi.gov/wanted/topten'\n",
    "get_html = requests.get(url).content\n",
    "soup = BeautifulSoup(get_html, 'lxml')\n",
    "table = soup.find_all('h3', {'class': 'title'})\n",
    "topten_names_parsed = [''.join(re.findall('[^\\n]',row.text)) for row in table]"
   ]
  },
  {
   "cell_type": "code",
   "execution_count": 33,
   "metadata": {},
   "outputs": [
    {
     "data": {
      "text/plain": [
       "['ALEJANDRO ROSALES CASTILLO',\n",
       " 'ARNOLDO JIMENEZ',\n",
       " 'JASON DEREK BROWN',\n",
       " 'YASER ABDEL SAID',\n",
       " 'ALEXIS FLORES',\n",
       " 'EUGENE PALMER',\n",
       " 'SANTIAGO VILLALBA MEDEROS',\n",
       " 'RAFAEL CARO-QUINTERO',\n",
       " 'ROBERT WILLIAM FISHER',\n",
       " 'BHADRESHKUMAR CHETANBHAI PATEL']"
      ]
     },
     "execution_count": 33,
     "metadata": {},
     "output_type": "execute_result"
    }
   ],
   "source": [
    "# your code here\n",
    "topten_names_parsed"
   ]
  },
  {
   "cell_type": "markdown",
   "metadata": {},
   "source": [
    "####  Display the 20 latest earthquakes info (date, time, latitude, longitude and region name) by the EMSC as a pandas dataframe."
   ]
  },
  {
   "cell_type": "code",
   "execution_count": 136,
   "metadata": {},
   "outputs": [],
   "source": [
    "# This is the url you will scrape in this exercise\n",
    "url = 'https://www.emsc-csem.org/Earthquake/'\n",
    "get_html = requests.get(url).content\n",
    "soup = BeautifulSoup(get_html, 'lxml')\n",
    "table = soup.find_all('td', {'class': ['tabev1', 'tabev2', 'tabev3', 'tabev4', 'tb_region']})\n",
    "index = soup.find_all('td', {'class': 'tabev6'})"
   ]
  },
  {
   "cell_type": "code",
   "execution_count": 137,
   "metadata": {},
   "outputs": [
    {
     "data": {
      "text/plain": [
       "[['38.02 N', '15.07 E', '8', '2.1', 'SICILY, ITALY'],\n",
       " ['41.43 N', '19.63 E', '2', '2.7', 'ALBANIA'],\n",
       " ['35.45 N', '26.73 E', '1', '2.7', 'CRETE, GREECE'],\n",
       " ['39.58 N', '119.11 W', '2', '2.0', 'NEVADA'],\n",
       " ['65.08 N', '16.44 W', '4', '3.0', 'ICELAND']]"
      ]
     },
     "execution_count": 137,
     "metadata": {},
     "output_type": "execute_result"
    }
   ],
   "source": [
    "# Construction of data table\n",
    "table_parsed = [''.join(re.findall('[^\\xa0]',row.text)) for row in table]\n",
    "row = []\n",
    "for i in range(0, len(table_parsed), 7):\n",
    "    north_coord = \" \".join([table_parsed[i], table_parsed[i+1]])\n",
    "    west_coord = \" \".join([table_parsed[i+2], table_parsed[i+3]])\n",
    "    row.append([north_coord, west_coord, table_parsed[i+4], table_parsed[i+5], table_parsed[i+6]])\n",
    "    \n",
    "row[0:5]"
   ]
  },
  {
   "cell_type": "code",
   "execution_count": 138,
   "metadata": {},
   "outputs": [
    {
     "data": {
      "text/plain": [
       "['2020-07-12 22:09:42',\n",
       " '2020-07-12 21:55:58',\n",
       " '2020-07-12 21:39:28',\n",
       " '2020-07-12 21:31:45',\n",
       " '2020-07-12 21:24:23']"
      ]
     },
     "execution_count": 138,
     "metadata": {},
     "output_type": "execute_result"
    }
   ],
   "source": [
    "# Construction of datetime indexes\n",
    "date_parsed = [''.join(re.findall('[^earthquake]',row.text))[0:10]  for row in index]\n",
    "time_parsed = [''.join(re.findall('[^earthquake]',row.text))[13:21]  for row in index]\n",
    "datetime_parsed = [' '.join([date_parsed[i], time_parsed[i]]) for i in range(len(date_parsed))]\n",
    "datetime_parsed[0:5]"
   ]
  },
  {
   "cell_type": "code",
   "execution_count": 139,
   "metadata": {},
   "outputs": [
    {
     "data": {
      "text/html": [
       "<div>\n",
       "<style scoped>\n",
       "    .dataframe tbody tr th:only-of-type {\n",
       "        vertical-align: middle;\n",
       "    }\n",
       "\n",
       "    .dataframe tbody tr th {\n",
       "        vertical-align: top;\n",
       "    }\n",
       "\n",
       "    .dataframe thead th {\n",
       "        text-align: right;\n",
       "    }\n",
       "</style>\n",
       "<table border=\"1\" class=\"dataframe\">\n",
       "  <thead>\n",
       "    <tr style=\"text-align: right;\">\n",
       "      <th></th>\n",
       "      <th>Latitud (degrees)</th>\n",
       "      <th>Longitud (degrees)</th>\n",
       "      <th>Depth (km)</th>\n",
       "      <th>Mag[+]</th>\n",
       "      <th>Region name</th>\n",
       "    </tr>\n",
       "  </thead>\n",
       "  <tbody>\n",
       "    <tr>\n",
       "      <th>2020-07-12 22:09:42</th>\n",
       "      <td>38.02 N</td>\n",
       "      <td>15.07 E</td>\n",
       "      <td>8</td>\n",
       "      <td>2.1</td>\n",
       "      <td>SICILY, ITALY</td>\n",
       "    </tr>\n",
       "    <tr>\n",
       "      <th>2020-07-12 21:55:58</th>\n",
       "      <td>41.43 N</td>\n",
       "      <td>19.63 E</td>\n",
       "      <td>2</td>\n",
       "      <td>2.7</td>\n",
       "      <td>ALBANIA</td>\n",
       "    </tr>\n",
       "    <tr>\n",
       "      <th>2020-07-12 21:39:28</th>\n",
       "      <td>35.45 N</td>\n",
       "      <td>26.73 E</td>\n",
       "      <td>1</td>\n",
       "      <td>2.7</td>\n",
       "      <td>CRETE, GREECE</td>\n",
       "    </tr>\n",
       "    <tr>\n",
       "      <th>2020-07-12 21:31:45</th>\n",
       "      <td>39.58 N</td>\n",
       "      <td>119.11 W</td>\n",
       "      <td>2</td>\n",
       "      <td>2.0</td>\n",
       "      <td>NEVADA</td>\n",
       "    </tr>\n",
       "    <tr>\n",
       "      <th>2020-07-12 21:24:23</th>\n",
       "      <td>65.08 N</td>\n",
       "      <td>16.44 W</td>\n",
       "      <td>4</td>\n",
       "      <td>3.0</td>\n",
       "      <td>ICELAND</td>\n",
       "    </tr>\n",
       "    <tr>\n",
       "      <th>2020-07-12 21:20:15</th>\n",
       "      <td>38.16 N</td>\n",
       "      <td>117.99 W</td>\n",
       "      <td>2</td>\n",
       "      <td>2.1</td>\n",
       "      <td>NEVADA</td>\n",
       "    </tr>\n",
       "    <tr>\n",
       "      <th>2020-07-12 21:11:43</th>\n",
       "      <td>18.90 N</td>\n",
       "      <td>68.87 W</td>\n",
       "      <td>41</td>\n",
       "      <td>2.6</td>\n",
       "      <td>DOMINICAN REPUBLIC</td>\n",
       "    </tr>\n",
       "    <tr>\n",
       "      <th>2020-07-12 21:10:30</th>\n",
       "      <td>8.36 N</td>\n",
       "      <td>82.99 W</td>\n",
       "      <td>27</td>\n",
       "      <td>3.7</td>\n",
       "      <td>PANAMA-COSTA RICA BORDER REGION</td>\n",
       "    </tr>\n",
       "    <tr>\n",
       "      <th>2020-07-12 21:06:47</th>\n",
       "      <td>14.34 N</td>\n",
       "      <td>92.97 E</td>\n",
       "      <td>10</td>\n",
       "      <td>4.5</td>\n",
       "      <td>ANDAMAN ISLANDS, INDIA REGION</td>\n",
       "    </tr>\n",
       "    <tr>\n",
       "      <th>2020-07-12 21:00:50</th>\n",
       "      <td>51.16 N</td>\n",
       "      <td>169.05 W</td>\n",
       "      <td>10</td>\n",
       "      <td>3.7</td>\n",
       "      <td>FOX ISLANDS, ALEUTIAN ISLANDS</td>\n",
       "    </tr>\n",
       "    <tr>\n",
       "      <th>2020-07-12 20:54:19</th>\n",
       "      <td>17.95 N</td>\n",
       "      <td>66.91 W</td>\n",
       "      <td>13</td>\n",
       "      <td>3.3</td>\n",
       "      <td>PUERTO RICO REGION</td>\n",
       "    </tr>\n",
       "    <tr>\n",
       "      <th>2020-07-12 20:51:29</th>\n",
       "      <td>2.54 S</td>\n",
       "      <td>121.15 E</td>\n",
       "      <td>10</td>\n",
       "      <td>3.2</td>\n",
       "      <td>SULAWESI, INDONESIA</td>\n",
       "    </tr>\n",
       "    <tr>\n",
       "      <th>2020-07-12 20:42:56</th>\n",
       "      <td>0.91 N</td>\n",
       "      <td>121.49 E</td>\n",
       "      <td>10</td>\n",
       "      <td>2.9</td>\n",
       "      <td>MINAHASA, SULAWESI, INDONESIA</td>\n",
       "    </tr>\n",
       "    <tr>\n",
       "      <th>2020-07-12 20:41:00</th>\n",
       "      <td>31.14 S</td>\n",
       "      <td>71.33 W</td>\n",
       "      <td>67</td>\n",
       "      <td>2.5</td>\n",
       "      <td>COQUIMBO, CHILE</td>\n",
       "    </tr>\n",
       "    <tr>\n",
       "      <th>2020-07-12 20:31:40</th>\n",
       "      <td>45.66 N</td>\n",
       "      <td>26.63 E</td>\n",
       "      <td>132</td>\n",
       "      <td>3.3</td>\n",
       "      <td>ROMANIA</td>\n",
       "    </tr>\n",
       "    <tr>\n",
       "      <th>2020-07-12 20:18:30</th>\n",
       "      <td>19.46 N</td>\n",
       "      <td>155.83 W</td>\n",
       "      <td>10</td>\n",
       "      <td>2.1</td>\n",
       "      <td>ISLAND OF HAWAII, HAWAII</td>\n",
       "    </tr>\n",
       "    <tr>\n",
       "      <th>2020-07-12 20:13:56</th>\n",
       "      <td>17.23 N</td>\n",
       "      <td>119.82 E</td>\n",
       "      <td>16</td>\n",
       "      <td>4.1</td>\n",
       "      <td>PHILIPPINE ISLANDS REGION</td>\n",
       "    </tr>\n",
       "    <tr>\n",
       "      <th>2020-07-12 20:10:04</th>\n",
       "      <td>4.08 N</td>\n",
       "      <td>95.96 E</td>\n",
       "      <td>35</td>\n",
       "      <td>3.6</td>\n",
       "      <td>NORTHERN SUMATRA, INDONESIA</td>\n",
       "    </tr>\n",
       "    <tr>\n",
       "      <th>2020-07-12 20:05:35</th>\n",
       "      <td>30.33 S</td>\n",
       "      <td>71.40 W</td>\n",
       "      <td>46</td>\n",
       "      <td>2.6</td>\n",
       "      <td>COQUIMBO, CHILE</td>\n",
       "    </tr>\n",
       "    <tr>\n",
       "      <th>2020-07-12 20:02:34</th>\n",
       "      <td>16.99 S</td>\n",
       "      <td>177.12 W</td>\n",
       "      <td>10</td>\n",
       "      <td>4.6</td>\n",
       "      <td>FIJI REGION</td>\n",
       "    </tr>\n",
       "  </tbody>\n",
       "</table>\n",
       "</div>"
      ],
      "text/plain": [
       "                    Latitud (degrees) Longitud (degrees) Depth (km) Mag[+]  \\\n",
       "2020-07-12 22:09:42           38.02 N            15.07 E          8    2.1   \n",
       "2020-07-12 21:55:58           41.43 N            19.63 E          2    2.7   \n",
       "2020-07-12 21:39:28           35.45 N            26.73 E          1    2.7   \n",
       "2020-07-12 21:31:45           39.58 N           119.11 W          2    2.0   \n",
       "2020-07-12 21:24:23           65.08 N            16.44 W          4    3.0   \n",
       "2020-07-12 21:20:15           38.16 N           117.99 W          2    2.1   \n",
       "2020-07-12 21:11:43           18.90 N            68.87 W         41    2.6   \n",
       "2020-07-12 21:10:30            8.36 N            82.99 W         27    3.7   \n",
       "2020-07-12 21:06:47           14.34 N            92.97 E         10    4.5   \n",
       "2020-07-12 21:00:50           51.16 N           169.05 W         10    3.7   \n",
       "2020-07-12 20:54:19           17.95 N            66.91 W         13    3.3   \n",
       "2020-07-12 20:51:29            2.54 S           121.15 E         10    3.2   \n",
       "2020-07-12 20:42:56            0.91 N           121.49 E         10    2.9   \n",
       "2020-07-12 20:41:00           31.14 S            71.33 W         67    2.5   \n",
       "2020-07-12 20:31:40           45.66 N            26.63 E        132    3.3   \n",
       "2020-07-12 20:18:30           19.46 N           155.83 W         10    2.1   \n",
       "2020-07-12 20:13:56           17.23 N           119.82 E         16    4.1   \n",
       "2020-07-12 20:10:04            4.08 N            95.96 E         35    3.6   \n",
       "2020-07-12 20:05:35           30.33 S            71.40 W         46    2.6   \n",
       "2020-07-12 20:02:34           16.99 S           177.12 W         10    4.6   \n",
       "\n",
       "                                         Region name  \n",
       "2020-07-12 22:09:42                    SICILY, ITALY  \n",
       "2020-07-12 21:55:58                          ALBANIA  \n",
       "2020-07-12 21:39:28                    CRETE, GREECE  \n",
       "2020-07-12 21:31:45                           NEVADA  \n",
       "2020-07-12 21:24:23                          ICELAND  \n",
       "2020-07-12 21:20:15                           NEVADA  \n",
       "2020-07-12 21:11:43               DOMINICAN REPUBLIC  \n",
       "2020-07-12 21:10:30  PANAMA-COSTA RICA BORDER REGION  \n",
       "2020-07-12 21:06:47    ANDAMAN ISLANDS, INDIA REGION  \n",
       "2020-07-12 21:00:50    FOX ISLANDS, ALEUTIAN ISLANDS  \n",
       "2020-07-12 20:54:19               PUERTO RICO REGION  \n",
       "2020-07-12 20:51:29              SULAWESI, INDONESIA  \n",
       "2020-07-12 20:42:56    MINAHASA, SULAWESI, INDONESIA  \n",
       "2020-07-12 20:41:00                  COQUIMBO, CHILE  \n",
       "2020-07-12 20:31:40                          ROMANIA  \n",
       "2020-07-12 20:18:30         ISLAND OF HAWAII, HAWAII  \n",
       "2020-07-12 20:13:56        PHILIPPINE ISLANDS REGION  \n",
       "2020-07-12 20:10:04      NORTHERN SUMATRA, INDONESIA  \n",
       "2020-07-12 20:05:35                  COQUIMBO, CHILE  \n",
       "2020-07-12 20:02:34                      FIJI REGION  "
      ]
     },
     "execution_count": 139,
     "metadata": {},
     "output_type": "execute_result"
    }
   ],
   "source": [
    "# Construction of DataFrame\n",
    "cols = ['Latitud (degrees)', 'Longitud (degrees)', 'Depth (km)', 'Mag[+]', 'Region name']\n",
    "earthquake_df = pd.DataFrame.from_dict(dict(zip(datetime_parsed, row)), orient='index', columns=cols)\n",
    "earthquake_df[0:20]"
   ]
  },
  {
   "cell_type": "markdown",
   "metadata": {},
   "source": [
    "#### Count the number of tweets by a given Twitter account.\n",
    "Ask the user for the handle (@handle) of a twitter account. You will need to include a ***try/except block*** for account names not found. \n",
    "<br>***Hint:*** the program should count the number of tweets for any provided account."
   ]
  },
  {
   "cell_type": "code",
   "execution_count": 144,
   "metadata": {},
   "outputs": [
    {
     "data": {
      "text/plain": [
       "[]"
      ]
     },
     "execution_count": 144,
     "metadata": {},
     "output_type": "execute_result"
    }
   ],
   "source": [
    "# This is the url you will scrape in this exercise \n",
    "# You will need to add the account credentials to this url\n"
   ]
  },
  {
   "cell_type": "code",
   "execution_count": null,
   "metadata": {},
   "outputs": [],
   "source": []
  },
  {
   "cell_type": "markdown",
   "metadata": {},
   "source": [
    "#### Number of followers of a given twitter account\n",
    "Ask the user for the handle (@handle) of a twitter account. You will need to include a ***try/except block*** for account names not found. \n",
    "<br>***Hint:*** the program should count the followers for any provided account."
   ]
  },
  {
   "cell_type": "code",
   "execution_count": null,
   "metadata": {},
   "outputs": [],
   "source": [
    "# This is the url you will scrape in this exercise \n",
    "# You will need to add the account credentials to this url\n",
    "url = 'https://twitter.com/'"
   ]
  },
  {
   "cell_type": "code",
   "execution_count": null,
   "metadata": {},
   "outputs": [],
   "source": [
    "# your code here"
   ]
  },
  {
   "cell_type": "markdown",
   "metadata": {},
   "source": [
    "#### List all language names and number of related articles in the order they appear in wikipedia.org."
   ]
  },
  {
   "cell_type": "code",
   "execution_count": 174,
   "metadata": {},
   "outputs": [],
   "source": [
    "# This is the url you will scrape in this exercise\n",
    "url = 'https://www.wikipedia.org/'\n",
    "get_html = requests.get(url).content\n",
    "soup = BeautifulSoup(get_html, 'lxml')\n",
    "table = soup.find_all('a', class_ = 'link-box')"
   ]
  },
  {
   "cell_type": "code",
   "execution_count": 230,
   "metadata": {},
   "outputs": [],
   "source": [
    "titles = [row.find('strong').get_text() for row in table]\n",
    "articles = [int(row.find('small').get_text().replace(u'\\xa0', u'')[:7]) for row in table]"
   ]
  },
  {
   "cell_type": "code",
   "execution_count": 231,
   "metadata": {},
   "outputs": [
    {
     "data": {
      "text/plain": [
       "{'English': 6116000,\n",
       " '日本語': 1215000,\n",
       " 'Español': 1610000,\n",
       " 'Deutsch': 2452000,\n",
       " 'Русский': 1641000,\n",
       " 'Français': 2233000,\n",
       " 'Italiano': 1620000,\n",
       " '中文': 1127000,\n",
       " 'Português': 1038000,\n",
       " 'Polski': 1418000}"
      ]
     },
     "execution_count": 231,
     "metadata": {},
     "output_type": "execute_result"
    }
   ],
   "source": [
    "wikipedia_dict = dict(zip(titles, articles))\n",
    "wikipedia_dict"
   ]
  },
  {
   "cell_type": "markdown",
   "metadata": {},
   "source": [
    "#### A list with the different kind of datasets available in data.gov.uk."
   ]
  },
  {
   "cell_type": "code",
   "execution_count": 242,
   "metadata": {},
   "outputs": [],
   "source": [
    "# This is the url you will scrape in this exercise\n",
    "url = 'https://data.gov.uk/'\n",
    "get_html = requests.get(url).content\n",
    "soup = BeautifulSoup(get_html, 'lxml')\n",
    "table_links = soup.find_all('a', {'class': 'govuk-link'})\n",
    "links_texts = [row.text for row in table_links][3:]"
   ]
  },
  {
   "cell_type": "code",
   "execution_count": 243,
   "metadata": {},
   "outputs": [
    {
     "data": {
      "text/plain": [
       "['Business and economy',\n",
       " 'Crime and justice',\n",
       " 'Defence',\n",
       " 'Education',\n",
       " 'Environment',\n",
       " 'Government',\n",
       " 'Government spending',\n",
       " 'Health',\n",
       " 'Mapping',\n",
       " 'Society',\n",
       " 'Towns and cities',\n",
       " 'Transport']"
      ]
     },
     "execution_count": 243,
     "metadata": {},
     "output_type": "execute_result"
    }
   ],
   "source": [
    "# your code here\n",
    "links_texts"
   ]
  },
  {
   "cell_type": "markdown",
   "metadata": {},
   "source": [
    "#### Display the top 10 languages by number of native speakers stored in a pandas dataframe."
   ]
  },
  {
   "cell_type": "code",
   "execution_count": 262,
   "metadata": {},
   "outputs": [],
   "source": [
    "# This is the url you will scrape in this exercise\n",
    "url = 'https://en.wikipedia.org/wiki/List_of_languages_by_number_of_native_speakers'\n",
    "get_html = requests.get(url).content\n",
    "soup = BeautifulSoup(get_html, 'lxml')\n",
    "table = soup.find_all('table', {'class':'wikitable sortable'})"
   ]
  },
  {
   "cell_type": "code",
   "execution_count": 293,
   "metadata": {},
   "outputs": [],
   "source": [
    "table_languages = [row.find_all('td') for row in table][0]\n",
    "table_languages = [row.text.replace('\\n', '') for row in table_languages]\n",
    "\n",
    "rows = [ [table_languages[i], table_languages[i+1], table_languages[i+2], table_languages[i+3], table_languages[i+4], table_languages[i+5]] \n",
    "        for i in range(0, len(table_languages), 6)][0:10]\n"
   ]
  },
  {
   "cell_type": "code",
   "execution_count": 297,
   "metadata": {},
   "outputs": [
    {
     "data": {
      "text/html": [
       "<div>\n",
       "<style scoped>\n",
       "    .dataframe tbody tr th:only-of-type {\n",
       "        vertical-align: middle;\n",
       "    }\n",
       "\n",
       "    .dataframe tbody tr th {\n",
       "        vertical-align: top;\n",
       "    }\n",
       "\n",
       "    .dataframe thead th {\n",
       "        text-align: right;\n",
       "    }\n",
       "</style>\n",
       "<table border=\"1\" class=\"dataframe\">\n",
       "  <thead>\n",
       "    <tr style=\"text-align: right;\">\n",
       "      <th></th>\n",
       "      <th>Rank</th>\n",
       "      <th>Language</th>\n",
       "      <th>Speakers (millions)</th>\n",
       "      <th>% World Pop</th>\n",
       "      <th>Language Family</th>\n",
       "      <th>Branch</th>\n",
       "    </tr>\n",
       "  </thead>\n",
       "  <tbody>\n",
       "    <tr>\n",
       "      <th>0</th>\n",
       "      <td>1</td>\n",
       "      <td>Mandarin Chinese</td>\n",
       "      <td>918</td>\n",
       "      <td>11.922</td>\n",
       "      <td>Sino-Tibetan</td>\n",
       "      <td>Sinitic</td>\n",
       "    </tr>\n",
       "    <tr>\n",
       "      <th>1</th>\n",
       "      <td>2</td>\n",
       "      <td>Spanish</td>\n",
       "      <td>480</td>\n",
       "      <td>5.994</td>\n",
       "      <td>Indo-European</td>\n",
       "      <td>Romance</td>\n",
       "    </tr>\n",
       "    <tr>\n",
       "      <th>2</th>\n",
       "      <td>3</td>\n",
       "      <td>English</td>\n",
       "      <td>379</td>\n",
       "      <td>4.922</td>\n",
       "      <td>Indo-European</td>\n",
       "      <td>Germanic</td>\n",
       "    </tr>\n",
       "    <tr>\n",
       "      <th>3</th>\n",
       "      <td>4</td>\n",
       "      <td>Hindi (Sanskritised Hindustani)[9]</td>\n",
       "      <td>341</td>\n",
       "      <td>4.429</td>\n",
       "      <td>Indo-European</td>\n",
       "      <td>Indo-Aryan</td>\n",
       "    </tr>\n",
       "    <tr>\n",
       "      <th>4</th>\n",
       "      <td>5</td>\n",
       "      <td>Bengali</td>\n",
       "      <td>228</td>\n",
       "      <td>2.961</td>\n",
       "      <td>Indo-European</td>\n",
       "      <td>Indo-Aryan</td>\n",
       "    </tr>\n",
       "    <tr>\n",
       "      <th>5</th>\n",
       "      <td>6</td>\n",
       "      <td>Portuguese</td>\n",
       "      <td>221</td>\n",
       "      <td>2.870</td>\n",
       "      <td>Indo-European</td>\n",
       "      <td>Romance</td>\n",
       "    </tr>\n",
       "    <tr>\n",
       "      <th>6</th>\n",
       "      <td>7</td>\n",
       "      <td>Russian</td>\n",
       "      <td>154</td>\n",
       "      <td>2.000</td>\n",
       "      <td>Indo-European</td>\n",
       "      <td>Balto-Slavic</td>\n",
       "    </tr>\n",
       "    <tr>\n",
       "      <th>7</th>\n",
       "      <td>8</td>\n",
       "      <td>Japanese</td>\n",
       "      <td>128</td>\n",
       "      <td>1.662</td>\n",
       "      <td>Japonic</td>\n",
       "      <td>Japanese</td>\n",
       "    </tr>\n",
       "    <tr>\n",
       "      <th>8</th>\n",
       "      <td>9</td>\n",
       "      <td>Western Punjabi[10]</td>\n",
       "      <td>92.7</td>\n",
       "      <td>1.204</td>\n",
       "      <td>Indo-European</td>\n",
       "      <td>Indo-Aryan</td>\n",
       "    </tr>\n",
       "    <tr>\n",
       "      <th>9</th>\n",
       "      <td>10</td>\n",
       "      <td>Marathi</td>\n",
       "      <td>83.1</td>\n",
       "      <td>1.079</td>\n",
       "      <td>Indo-European</td>\n",
       "      <td>Indo-Aryan</td>\n",
       "    </tr>\n",
       "  </tbody>\n",
       "</table>\n",
       "</div>"
      ],
      "text/plain": [
       "  Rank                            Language Speakers (millions) % World Pop  \\\n",
       "0    1                    Mandarin Chinese                 918      11.922   \n",
       "1    2                             Spanish                 480       5.994   \n",
       "2    3                             English                 379       4.922   \n",
       "3    4  Hindi (Sanskritised Hindustani)[9]                 341       4.429   \n",
       "4    5                             Bengali                 228       2.961   \n",
       "5    6                          Portuguese                 221       2.870   \n",
       "6    7                             Russian                 154       2.000   \n",
       "7    8                            Japanese                 128       1.662   \n",
       "8    9                 Western Punjabi[10]                92.7       1.204   \n",
       "9   10                             Marathi                83.1       1.079   \n",
       "\n",
       "  Language Family        Branch  \n",
       "0    Sino-Tibetan       Sinitic  \n",
       "1   Indo-European       Romance  \n",
       "2   Indo-European      Germanic  \n",
       "3   Indo-European    Indo-Aryan  \n",
       "4   Indo-European    Indo-Aryan  \n",
       "5   Indo-European       Romance  \n",
       "6   Indo-European  Balto-Slavic  \n",
       "7         Japonic      Japanese  \n",
       "8   Indo-European    Indo-Aryan  \n",
       "9   Indo-European    Indo-Aryan  "
      ]
     },
     "execution_count": 297,
     "metadata": {},
     "output_type": "execute_result"
    }
   ],
   "source": [
    "cols = ['Rank', 'Language', 'Speakers (millions)', '% World Pop', 'Language Family', 'Branch']\n",
    "top_ten_languages = pd.DataFrame(rows, columns=cols)\n",
    "top_ten_languages"
   ]
  },
  {
   "cell_type": "markdown",
   "metadata": {},
   "source": [
    "## Bonus\n",
    "#### Scrape a certain number of tweets of a given Twitter account."
   ]
  },
  {
   "cell_type": "code",
   "execution_count": null,
   "metadata": {},
   "outputs": [],
   "source": [
    "# This is the url you will scrape in this exercise \n",
    "# You will need to add the account credentials to this url\n",
    "url = 'https://twitter.com/'"
   ]
  },
  {
   "cell_type": "code",
   "execution_count": null,
   "metadata": {},
   "outputs": [],
   "source": [
    "# your code here"
   ]
  },
  {
   "cell_type": "markdown",
   "metadata": {},
   "source": [
    "#### Display IMDB's top 250 data (movie name, initial release, director name and stars) as a pandas dataframe."
   ]
  },
  {
   "cell_type": "code",
   "execution_count": null,
   "metadata": {},
   "outputs": [],
   "source": [
    "# This is the url you will scrape in this exercise \n",
    "url = 'https://www.imdb.com/chart/top'"
   ]
  },
  {
   "cell_type": "code",
   "execution_count": null,
   "metadata": {},
   "outputs": [],
   "source": [
    "# your code here"
   ]
  },
  {
   "cell_type": "markdown",
   "metadata": {},
   "source": [
    "#### Display the movie name, year and a brief summary of the top 10 random movies (IMDB) as a pandas dataframe."
   ]
  },
  {
   "cell_type": "code",
   "execution_count": null,
   "metadata": {},
   "outputs": [],
   "source": [
    "#This is the url you will scrape in this exercise\n",
    "url = 'http://www.imdb.com/chart/top'"
   ]
  },
  {
   "cell_type": "code",
   "execution_count": null,
   "metadata": {},
   "outputs": [],
   "source": [
    "# your code here"
   ]
  },
  {
   "cell_type": "markdown",
   "metadata": {},
   "source": [
    "#### Find the live weather report (temperature, wind speed, description and weather) of a given city."
   ]
  },
  {
   "cell_type": "code",
   "execution_count": null,
   "metadata": {},
   "outputs": [],
   "source": [
    "#https://openweathermap.org/current\n",
    "city = input('Enter the city: ')\n",
    "url = 'http://api.openweathermap.org/data/2.5/weather?'+'q='+city+'&APPID=b35975e18dc93725acb092f7272cc6b8&units=metric'"
   ]
  },
  {
   "cell_type": "code",
   "execution_count": null,
   "metadata": {},
   "outputs": [],
   "source": [
    "# your code here"
   ]
  },
  {
   "cell_type": "markdown",
   "metadata": {},
   "source": [
    "#### Find the book name, price and stock availability as a pandas dataframe."
   ]
  },
  {
   "cell_type": "code",
   "execution_count": null,
   "metadata": {},
   "outputs": [],
   "source": [
    "# This is the url you will scrape in this exercise. \n",
    "# It is a fictional bookstore created to be scraped. \n",
    "url = 'http://books.toscrape.com/'"
   ]
  },
  {
   "cell_type": "code",
   "execution_count": null,
   "metadata": {},
   "outputs": [],
   "source": [
    "# your code here"
   ]
  }
 ],
 "metadata": {
  "kernelspec": {
   "display_name": "Python 3",
   "language": "python",
   "name": "python3"
  },
  "language_info": {
   "codemirror_mode": {
    "name": "ipython",
    "version": 3
   },
   "file_extension": ".py",
   "mimetype": "text/x-python",
   "name": "python",
   "nbconvert_exporter": "python",
   "pygments_lexer": "ipython3",
   "version": "3.7.7"
  }
 },
 "nbformat": 4,
 "nbformat_minor": 2
}
