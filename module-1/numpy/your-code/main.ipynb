{
 "cells": [
  {
   "cell_type": "markdown",
   "metadata": {},
   "source": [
    "# Introduction to NumPy\n",
    "\n",
    "\n",
    "#### 1. Import NumPy under the name np."
   ]
  },
  {
   "cell_type": "code",
   "execution_count": 134,
   "metadata": {},
   "outputs": [],
   "source": [
    "# your code here\n",
    "import numpy as np"
   ]
  },
  {
   "cell_type": "markdown",
   "metadata": {},
   "source": [
    "#### 2. Print your NumPy version."
   ]
  },
  {
   "cell_type": "code",
   "execution_count": 135,
   "metadata": {},
   "outputs": [
    {
     "name": "stdout",
     "output_type": "stream",
     "text": [
      "1.18.1\n"
     ]
    }
   ],
   "source": [
    "# your code here\n",
    "print(np.__version__)"
   ]
  },
  {
   "cell_type": "markdown",
   "metadata": {},
   "source": [
    "#### 3. Generate a 2x3x5 3-dimensional array with random values. Assign the array to variable *a*.\n",
    "**Challenge**: there are at least three easy ways that use numpy to generate random arrays. How many ways can you find?"
   ]
  },
  {
   "cell_type": "code",
   "execution_count": 136,
   "metadata": {},
   "outputs": [],
   "source": [
    "# Method 1\n",
    "matrix_a1 = np.random.random((2,3,5))"
   ]
  },
  {
   "cell_type": "code",
   "execution_count": 137,
   "metadata": {},
   "outputs": [],
   "source": [
    "# Method 2\n",
    "matrix_a2 = np.random.randint(0, 10, size=(2,3,5))"
   ]
  },
  {
   "cell_type": "code",
   "execution_count": 138,
   "metadata": {},
   "outputs": [],
   "source": [
    "# Method 3\n",
    "matrix_a3 = np.random.rand(2,3,5)"
   ]
  },
  {
   "cell_type": "markdown",
   "metadata": {},
   "source": [
    "#### 4. Print *a*.\n"
   ]
  },
  {
   "cell_type": "code",
   "execution_count": 139,
   "metadata": {},
   "outputs": [
    {
     "name": "stdout",
     "output_type": "stream",
     "text": [
      "[[[0.88155104 0.96216073 0.37861136 0.8330672  0.50468428]\n",
      "  [0.08350522 0.75449086 0.63209854 0.82027788 0.48478048]\n",
      "  [0.72604519 0.38644345 0.75679977 0.17681043 0.09807994]]\n",
      "\n",
      " [[0.03453031 0.36521902 0.02879572 0.83738299 0.57081472]\n",
      "  [0.99475897 0.08624254 0.81240954 0.09533746 0.1579997 ]\n",
      "  [0.95177651 0.17306776 0.94783588 0.46960435 0.84124323]]]\n",
      "15.846425078126838\n",
      "\n",
      "\n",
      "[[[7 4 8 5 5]\n",
      "  [5 2 9 6 1]\n",
      "  [3 9 7 7 4]]\n",
      "\n",
      " [[0 2 8 1 8]\n",
      "  [1 0 2 9 7]\n",
      "  [8 2 4 4 4]]]\n",
      "142\n",
      "\n",
      "\n",
      "[[[0.64055118 0.68817953 0.97363048 0.38467103 0.38909071]\n",
      "  [0.69274523 0.35801979 0.07776683 0.88272192 0.78155164]\n",
      "  [0.99739475 0.98733778 0.38895602 0.54367793 0.23644907]]\n",
      "\n",
      " [[0.46772148 0.52518131 0.00362238 0.18962309 0.78054615]\n",
      "  [0.02575956 0.79803916 0.77094679 0.47221026 0.68141195]\n",
      "  [0.17549868 0.75944388 0.87274974 0.89968058 0.11131384]]]\n",
      "16.556492741515726\n"
     ]
    }
   ],
   "source": [
    "# your code here\n",
    "print(matrix_a1); print(np.sum(matrix_a1))\n",
    "print('\\n')\n",
    "print(matrix_a2); print(np.sum(matrix_a2))\n",
    "print('\\n')\n",
    "print(matrix_a3); print(np.sum(matrix_a3))"
   ]
  },
  {
   "cell_type": "markdown",
   "metadata": {},
   "source": [
    "#### 5. Create a 5x2x3 3-dimensional array with all values equaling 1. Assign the array to variable *b*."
   ]
  },
  {
   "cell_type": "code",
   "execution_count": 140,
   "metadata": {},
   "outputs": [],
   "source": [
    "# your code here\n",
    "matrix_b1 = np.full((5,2,3), 1)"
   ]
  },
  {
   "cell_type": "markdown",
   "metadata": {},
   "source": [
    "#### 6. Print *b*.\n"
   ]
  },
  {
   "cell_type": "code",
   "execution_count": 141,
   "metadata": {},
   "outputs": [
    {
     "name": "stdout",
     "output_type": "stream",
     "text": [
      "[[[1 1 1]\n",
      "  [1 1 1]]\n",
      "\n",
      " [[1 1 1]\n",
      "  [1 1 1]]\n",
      "\n",
      " [[1 1 1]\n",
      "  [1 1 1]]\n",
      "\n",
      " [[1 1 1]\n",
      "  [1 1 1]]\n",
      "\n",
      " [[1 1 1]\n",
      "  [1 1 1]]]\n"
     ]
    }
   ],
   "source": [
    "# your code here\n",
    "print(matrix_b1)"
   ]
  },
  {
   "cell_type": "markdown",
   "metadata": {},
   "source": [
    "#### 7. Do *a* and *b* have the same size? How do you prove that in Python code?"
   ]
  },
  {
   "cell_type": "code",
   "execution_count": 142,
   "metadata": {},
   "outputs": [
    {
     "name": "stdout",
     "output_type": "stream",
     "text": [
      "True\n",
      "True\n",
      "True\n"
     ]
    }
   ],
   "source": [
    "# your code here\n",
    "print(np.size(matrix_a1) == np.size(matrix_b1))\n",
    "print(np.size(matrix_a2) == np.size(matrix_b1))\n",
    "print(np.size(matrix_a3) == np.size(matrix_b1))"
   ]
  },
  {
   "cell_type": "markdown",
   "metadata": {},
   "source": [
    "#### 8. Are you able to add *a* and *b*? Why or why not?\n"
   ]
  },
  {
   "cell_type": "code",
   "execution_count": 143,
   "metadata": {},
   "outputs": [
    {
     "name": "stdout",
     "output_type": "stream",
     "text": [
      "It is not possible to apply Operation Overload with different sized arrays\n"
     ]
    }
   ],
   "source": [
    "# your answer here\n",
    "\"\"\" matrix_c = matrix_a1 + matrix_b1 \"\"\"\n",
    "# Not possible: ValueError operands could not be broadcast together with shapes (2,3,5) & (5,2,3)\n",
    "\n",
    "print(\"It is not possible to apply Operation Overload with different sized arrays\")"
   ]
  },
  {
   "cell_type": "markdown",
   "metadata": {},
   "source": [
    "#### 9. Transpose *b* so that it has the same structure of *a* (i.e. become a 2x3x5 array). Assign the transposed array to variable *c*."
   ]
  },
  {
   "cell_type": "code",
   "execution_count": 145,
   "metadata": {},
   "outputs": [
    {
     "name": "stdout",
     "output_type": "stream",
     "text": [
      "[[[1 1 1 1 1]\n",
      "  [1 1 1 1 1]\n",
      "  [1 1 1 1 1]]\n",
      "\n",
      " [[1 1 1 1 1]\n",
      "  [1 1 1 1 1]\n",
      "  [1 1 1 1 1]]]\n",
      "\n",
      "\n",
      "[[[0.88155104 0.96216073 0.37861136 0.8330672  0.50468428]\n",
      "  [0.08350522 0.75449086 0.63209854 0.82027788 0.48478048]\n",
      "  [0.72604519 0.38644345 0.75679977 0.17681043 0.09807994]]\n",
      "\n",
      " [[0.03453031 0.36521902 0.02879572 0.83738299 0.57081472]\n",
      "  [0.99475897 0.08624254 0.81240954 0.09533746 0.1579997 ]\n",
      "  [0.95177651 0.17306776 0.94783588 0.46960435 0.84124323]]]\n"
     ]
    }
   ],
   "source": [
    "# your code here\n",
    "matrix_b2 = (matrix_b1.transpose(1,2,0))\n",
    "print(matrix_b2)\n",
    "print('\\n')\n",
    "print(matrix_a1)"
   ]
  },
  {
   "cell_type": "markdown",
   "metadata": {},
   "source": [
    "#### 10. Try to add *a* and *c*. Now it should work. Assign the sum to variable *d*. But why does it work now?"
   ]
  },
  {
   "cell_type": "code",
   "execution_count": 146,
   "metadata": {},
   "outputs": [],
   "source": [
    "# your code/answer here\n",
    "matrix_d = matrix_a1 + matrix_b2"
   ]
  },
  {
   "cell_type": "markdown",
   "metadata": {},
   "source": [
    "#### 11. Print *a* and *d*. Notice the difference and relation of the two array in terms of the values? Explain."
   ]
  },
  {
   "cell_type": "code",
   "execution_count": 148,
   "metadata": {},
   "outputs": [
    {
     "name": "stdout",
     "output_type": "stream",
     "text": [
      "[[[0.88155104 0.96216073 0.37861136 0.8330672  0.50468428]\n",
      "  [0.08350522 0.75449086 0.63209854 0.82027788 0.48478048]\n",
      "  [0.72604519 0.38644345 0.75679977 0.17681043 0.09807994]]\n",
      "\n",
      " [[0.03453031 0.36521902 0.02879572 0.83738299 0.57081472]\n",
      "  [0.99475897 0.08624254 0.81240954 0.09533746 0.1579997 ]\n",
      "  [0.95177651 0.17306776 0.94783588 0.46960435 0.84124323]]]\n",
      "\n",
      "\n",
      "[[[1.88155104 1.96216073 1.37861136 1.8330672  1.50468428]\n",
      "  [1.08350522 1.75449086 1.63209854 1.82027788 1.48478048]\n",
      "  [1.72604519 1.38644345 1.75679977 1.17681043 1.09807994]]\n",
      "\n",
      " [[1.03453031 1.36521902 1.02879572 1.83738299 1.57081472]\n",
      "  [1.99475897 1.08624254 1.81240954 1.09533746 1.1579997 ]\n",
      "  [1.95177651 1.17306776 1.94783588 1.46960435 1.84124323]]]\n"
     ]
    },
    {
     "data": {
      "text/plain": [
       "'Sum overload has added each item with each item between matrices'"
      ]
     },
     "execution_count": 148,
     "metadata": {},
     "output_type": "execute_result"
    }
   ],
   "source": [
    "# your code/answer here\n",
    "print(matrix_a1)\n",
    "print('\\n')\n",
    "print(matrix_d)\n",
    "\n",
    "\"\"\"Sum overload has added each item with each item between matrices\"\"\""
   ]
  },
  {
   "cell_type": "markdown",
   "metadata": {},
   "source": [
    "#### 12. Multiply *a* and *c*. Assign the result to *e*."
   ]
  },
  {
   "cell_type": "code",
   "execution_count": 149,
   "metadata": {},
   "outputs": [
    {
     "name": "stdout",
     "output_type": "stream",
     "text": [
      "[[[0.88155104 0.96216073 0.37861136 0.8330672  0.50468428]\n",
      "  [0.08350522 0.75449086 0.63209854 0.82027788 0.48478048]\n",
      "  [0.72604519 0.38644345 0.75679977 0.17681043 0.09807994]]\n",
      "\n",
      " [[0.03453031 0.36521902 0.02879572 0.83738299 0.57081472]\n",
      "  [0.99475897 0.08624254 0.81240954 0.09533746 0.1579997 ]\n",
      "  [0.95177651 0.17306776 0.94783588 0.46960435 0.84124323]]]\n"
     ]
    }
   ],
   "source": [
    "# your code here\n",
    "matrix_e = matrix_a1 * matrix_b2\n",
    "print(matrix_e)"
   ]
  },
  {
   "cell_type": "markdown",
   "metadata": {},
   "source": [
    "#### 13. Does *e* equal to *a*? Why or why not?\n"
   ]
  },
  {
   "cell_type": "code",
   "execution_count": 150,
   "metadata": {},
   "outputs": [
    {
     "name": "stdout",
     "output_type": "stream",
     "text": [
      "[[[ True  True  True  True  True]\n",
      "  [ True  True  True  True  True]\n",
      "  [ True  True  True  True  True]]\n",
      "\n",
      " [[ True  True  True  True  True]\n",
      "  [ True  True  True  True  True]\n",
      "  [ True  True  True  True  True]]]\n"
     ]
    },
    {
     "data": {
      "text/plain": [
       "'Matrix are the same since matrix_b2 is a matrix formed by ones and its multiplication is the same matrix_a1'"
      ]
     },
     "execution_count": 150,
     "metadata": {},
     "output_type": "execute_result"
    }
   ],
   "source": [
    "# your code/answer here\n",
    "print(matrix_e == matrix_a1)\n",
    "\n",
    "\"\"\"Matrix are the same since matrix_b2 is a matrix formed by ones and its multiplication is the same matrix_a1\"\"\""
   ]
  },
  {
   "cell_type": "markdown",
   "metadata": {},
   "source": [
    "#### 14. Identify the max, min, and mean values in *d*. Assign those values to variables *d_max*, *d_min* and *d_mean*."
   ]
  },
  {
   "cell_type": "code",
   "execution_count": 152,
   "metadata": {},
   "outputs": [
    {
     "name": "stdout",
     "output_type": "stream",
     "text": [
      "max is 1.9947589692709375\n",
      "mean is 1.528214169270895\n",
      "min is 1.0287957245965065\n",
      "\n",
      "\n",
      "[[[1.88155104 1.96216073 1.37861136 1.8330672  1.50468428]\n",
      "  [1.08350522 1.75449086 1.63209854 1.82027788 1.48478048]\n",
      "  [1.72604519 1.38644345 1.75679977 1.17681043 1.09807994]]\n",
      "\n",
      " [[1.03453031 1.36521902 1.02879572 1.83738299 1.57081472]\n",
      "  [1.99475897 1.08624254 1.81240954 1.09533746 1.1579997 ]\n",
      "  [1.95177651 1.17306776 1.94783588 1.46960435 1.84124323]]]\n"
     ]
    }
   ],
   "source": [
    "# your code here\n",
    "# matrix_d = matrix_a1 + matrix_b2 (should be c)\n",
    "\n",
    "d_max = matrix_d.max()\n",
    "d_mean = matrix_d.mean()\n",
    "d_min = matrix_d.min()\n",
    "\n",
    "print(f'max is {d_max}')\n",
    "print(f'mean is {d_mean}')\n",
    "print(f'min is {d_min}')\n",
    "print('\\n')\n",
    "print(matrix_d)\n",
    "\n"
   ]
  },
  {
   "cell_type": "markdown",
   "metadata": {},
   "source": [
    "#### 15. Now we want to label the values in *d*. First create an empty array *f* with the same shape (i.e. 2x3x5) as *d* using `np.empty`.\n"
   ]
  },
  {
   "cell_type": "code",
   "execution_count": 156,
   "metadata": {},
   "outputs": [
    {
     "name": "stdout",
     "output_type": "stream",
     "text": [
      "[[[1.88155104 1.96216073 1.37861136 1.8330672  1.50468428]\n",
      "  [1.08350522 1.75449086 1.63209854 1.82027788 1.48478048]\n",
      "  [1.72604519 1.38644345 1.75679977 1.17681043 1.09807994]]\n",
      "\n",
      " [[1.03453031 1.36521902 1.02879572 1.83738299 1.57081472]\n",
      "  [1.99475897 1.08624254 1.81240954 1.09533746 1.1579997 ]\n",
      "  [1.95177651 1.17306776 1.94783588 1.46960435 1.84124323]]]\n"
     ]
    }
   ],
   "source": [
    "# your code here\n",
    "matrix_f = np.empty((2,3,5), dtype=float)\n",
    "print(matrix_f)"
   ]
  },
  {
   "cell_type": "markdown",
   "metadata": {},
   "source": [
    "#### 16. Populate the values in *f*. \n",
    "\n",
    "For each value in *d*, if it's larger than *d_min* but smaller than *d_mean*, assign 25 to the corresponding value in *f*. If a value in *d* is larger than *d_mean* but smaller than *d_max*, assign 75 to the corresponding value in *f*. If a value equals to *d_mean*, assign 50 to the corresponding value in *f*. Assign 0 to the corresponding value(s) in *f* for *d_min* in *d*. Assign 100 to the corresponding value(s) in *f* for *d_max* in *d*. In the end, f should have only the following values: 0, 25, 50, 75, and 100.\n",
    "\n",
    "**Note**: you don't have to use Numpy in this question."
   ]
  },
  {
   "cell_type": "code",
   "execution_count": 157,
   "metadata": {},
   "outputs": [
    {
     "name": "stdout",
     "output_type": "stream",
     "text": [
      "Before matrix_f: \n",
      "[[[1.88155104 1.96216073 1.37861136 1.8330672  1.50468428]\n",
      "  [1.08350522 1.75449086 1.63209854 1.82027788 1.48478048]\n",
      "  [1.72604519 1.38644345 1.75679977 1.17681043 1.09807994]]\n",
      "\n",
      " [[1.03453031 1.36521902 1.02879572 1.83738299 1.57081472]\n",
      "  [1.99475897 1.08624254 1.81240954 1.09533746 1.1579997 ]\n",
      "  [1.95177651 1.17306776 1.94783588 1.46960435 1.84124323]]]\n",
      "\n",
      "\n",
      "After matrix_f: \n",
      "[[['75.0' '75.0' '25.0' '75.0' '25.0']\n",
      "  ['25.0' '75.0' '75.0' '75.0' '25.0']\n",
      "  ['75.0' '25.0' '75.0' '25.0' '25.0']]\n",
      "\n",
      " [['25.0' '25.0' '0' '75.0' '75.0']\n",
      "  ['100.0' '25.0' '75.0' '25.0' '25.0']\n",
      "  ['75.0' '25.0' '75.0' '25.0' '75.0']]]\n"
     ]
    }
   ],
   "source": [
    "print(f'Before matrix_f: \\n{matrix_f}')\n",
    "print('\\n')\n",
    "# This has to be rerrun with code in 15\n",
    "\n",
    "matrix_f = np.where(matrix_d == d_min, 0, \n",
    "                    np.where(matrix_d < d_mean, 25., \n",
    "                             np.where(matrix_d == d_mean, 50., \n",
    "                                      np.where(matrix_d < d_max, 75., \n",
    "                                               np.where(matrix_d == d_max, 100., 'something is wrong')))))\n",
    "\n",
    "print(f'After matrix_f: \\n{matrix_f}')\n"
   ]
  },
  {
   "cell_type": "markdown",
   "metadata": {},
   "source": [
    "#### 17. Print *d* and *f*. Do you have your expected *f*?\n",
    "For instance, if your *d* is:\n",
    "```python\n",
    "[[[1.85836099, 1.67064465, 1.62576044, 1.40243961, 1.88454931],\n",
    "[1.75354326, 1.69403643, 1.36729252, 1.61415071, 1.12104981],\n",
    "[1.72201435, 1.1862918 , 1.87078449, 1.7726778 , 1.88180042]],\n",
    "[[1.44747908, 1.31673383, 1.02000951, 1.52218947, 1.97066381],\n",
    "[1.79129243, 1.74983003, 1.96028037, 1.85166831, 1.65450881],\n",
    "[1.18068344, 1.9587381 , 1.00656599, 1.93402165, 1.73514584]]]\n",
    "```\n",
    "Your *f* should be:\n",
    "```python\n",
    "[[[ 75.,  75.,  75.,  25.,  75.],\n",
    "[ 75.,  75.,  25.,  25.,  25.],\n",
    "[ 75.,  25.,  75.,  75.,  75.]],\n",
    "[[ 25.,  25.,  25.,  25., 100.],\n",
    "[ 75.,  75.,  75.,  75.,  75.],\n",
    "[ 25.,  75.,   0.,  75.,  75.]]]\n",
    "```"
   ]
  },
  {
   "cell_type": "code",
   "execution_count": 158,
   "metadata": {},
   "outputs": [
    {
     "name": "stdout",
     "output_type": "stream",
     "text": [
      "Matrix_d:\n",
      " [[[1.88155104 1.96216073 1.37861136 1.8330672  1.50468428]\n",
      "  [1.08350522 1.75449086 1.63209854 1.82027788 1.48478048]\n",
      "  [1.72604519 1.38644345 1.75679977 1.17681043 1.09807994]]\n",
      "\n",
      " [[1.03453031 1.36521902 1.02879572 1.83738299 1.57081472]\n",
      "  [1.99475897 1.08624254 1.81240954 1.09533746 1.1579997 ]\n",
      "  [1.95177651 1.17306776 1.94783588 1.46960435 1.84124323]]]\n",
      "\n",
      "\n",
      "Matrix_f:\n",
      " [[['75.0' '75.0' '25.0' '75.0' '25.0']\n",
      "  ['25.0' '75.0' '75.0' '75.0' '25.0']\n",
      "  ['75.0' '25.0' '75.0' '25.0' '25.0']]\n",
      "\n",
      " [['25.0' '25.0' '0' '75.0' '75.0']\n",
      "  ['100.0' '25.0' '75.0' '25.0' '25.0']\n",
      "  ['75.0' '25.0' '75.0' '25.0' '75.0']]]\n"
     ]
    }
   ],
   "source": [
    "# your code here\n",
    "print(f'Matrix_d:\\n {matrix_d}')\n",
    "print('\\n')\n",
    "print(f'Matrix_f:\\n {matrix_f}')"
   ]
  },
  {
   "cell_type": "markdown",
   "metadata": {},
   "source": [
    "#### 18. Bonus question: instead of using numbers (i.e. 0, 25, 50, 75, and 100), use string values  (\"A\", \"B\", \"C\", \"D\", and \"E\") to label the array elements. For the example above, the expected result is:\n",
    "\n",
    "```python\n",
    "[[[ 'D',  'D',  'D',  'B',  'D'],\n",
    "[ 'D',  'D',  'B',  'B',  'B'],\n",
    "[ 'D',  'B',  'D',  'D',  'D']],\n",
    "[[ 'B',  'B',  'B',  'B',  'E'],\n",
    "[ 'D',  'D',  'D',  'D',  'D'],\n",
    "[ 'B',  'D',   'A',  'D', 'D']]]\n",
    "```\n",
    "**Note**: you don't have to use Numpy in this question."
   ]
  },
  {
   "cell_type": "code",
   "execution_count": 159,
   "metadata": {},
   "outputs": [
    {
     "name": "stdout",
     "output_type": "stream",
     "text": [
      "Matrix_g: \n",
      "[[['D' 'D' 'B' 'D' 'B']\n",
      "  ['B' 'D' 'D' 'D' 'B']\n",
      "  ['D' 'B' 'D' 'B' 'B']]\n",
      "\n",
      " [['B' 'B' 'A' 'D' 'D']\n",
      "  ['E' 'B' 'D' 'B' 'B']\n",
      "  ['D' 'B' 'D' 'B' 'D']]]\n"
     ]
    }
   ],
   "source": [
    "# your code here\n",
    "matrix_g = np.where(matrix_d == d_min, 'A', \n",
    "                    np.where(matrix_d < d_mean, 'B', \n",
    "                             np.where(matrix_d == d_mean, 'C', \n",
    "                                      np.where(matrix_d < d_max, 'D', \n",
    "                                               np.where(matrix_d == d_max, 'E', 'something is wrong')))))\n",
    "\n",
    "print(f'Matrix_g: \\n{matrix_g}')\n"
   ]
  },
  {
   "cell_type": "code",
   "execution_count": null,
   "metadata": {},
   "outputs": [],
   "source": []
  },
  {
   "cell_type": "code",
   "execution_count": null,
   "metadata": {},
   "outputs": [],
   "source": []
  },
  {
   "cell_type": "code",
   "execution_count": null,
   "metadata": {},
   "outputs": [],
   "source": []
  }
 ],
 "metadata": {
  "kernelspec": {
   "display_name": "Python 3",
   "language": "python",
   "name": "python3"
  },
  "language_info": {
   "codemirror_mode": {
    "name": "ipython",
    "version": 3
   },
   "file_extension": ".py",
   "mimetype": "text/x-python",
   "name": "python",
   "nbconvert_exporter": "python",
   "pygments_lexer": "ipython3",
   "version": "3.7.7"
  }
 },
 "nbformat": 4,
 "nbformat_minor": 2
}
