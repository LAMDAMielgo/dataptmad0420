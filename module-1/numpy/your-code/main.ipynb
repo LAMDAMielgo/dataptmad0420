{
 "cells": [
  {
   "cell_type": "markdown",
   "metadata": {},
   "source": [
    "# Introduction to NumPy\n",
    "\n",
    "\n",
    "#### 1. Import NumPy under the name np."
   ]
  },
  {
   "cell_type": "code",
   "execution_count": 1,
   "metadata": {},
   "outputs": [],
   "source": [
    "# your code here\n",
    "import numpy as np"
   ]
  },
  {
   "cell_type": "markdown",
   "metadata": {},
   "source": [
    "#### 2. Print your NumPy version."
   ]
  },
  {
   "cell_type": "code",
   "execution_count": 2,
   "metadata": {},
   "outputs": [
    {
     "name": "stdout",
     "output_type": "stream",
     "text": [
      "1.18.1\n"
     ]
    }
   ],
   "source": [
    "# your code here\n",
    "print(np.__version__)"
   ]
  },
  {
   "cell_type": "markdown",
   "metadata": {},
   "source": [
    "#### 3. Generate a 2x3x5 3-dimensional array with random values. Assign the array to variable *a*.\n",
    "**Challenge**: there are at least three easy ways that use numpy to generate random arrays. How many ways can you find?"
   ]
  },
  {
   "cell_type": "code",
   "execution_count": 3,
   "metadata": {},
   "outputs": [],
   "source": [
    "# Method 1\n",
    "matrix_a1 = np.random.random((2,3,5))"
   ]
  },
  {
   "cell_type": "code",
   "execution_count": 4,
   "metadata": {},
   "outputs": [],
   "source": [
    "# Method 2\n",
    "matrix_a2 = np.random.randint(0, 10, size=(2,3,5))"
   ]
  },
  {
   "cell_type": "code",
   "execution_count": 5,
   "metadata": {},
   "outputs": [],
   "source": [
    "# Method 3\n",
    "matrix_a3 = np.random.rand(2,3,5)"
   ]
  },
  {
   "cell_type": "markdown",
   "metadata": {},
   "source": [
    "#### 4. Print *a*.\n"
   ]
  },
  {
   "cell_type": "code",
   "execution_count": 6,
   "metadata": {},
   "outputs": [
    {
     "name": "stdout",
     "output_type": "stream",
     "text": [
      "[[[0.63738609 0.51900223 0.48170354 0.79620774 0.24801222]\n",
      "  [0.52389055 0.51962959 0.20853137 0.67102843 0.79062783]\n",
      "  [0.94432205 0.09672956 0.59041362 0.07885209 0.1130005 ]]\n",
      "\n",
      " [[0.4482097  0.32917091 0.65512199 0.01687548 0.77570553]\n",
      "  [0.88740604 0.52204082 0.38703411 0.91822614 0.79666041]\n",
      "  [0.8870472  0.71302038 0.24458975 0.64363166 0.71817414]]]\n",
      "16.16225168014717\n",
      "\n",
      "\n",
      "[[[1 9 7 2 4]\n",
      "  [0 0 6 3 9]\n",
      "  [2 2 2 7 4]]\n",
      "\n",
      " [[4 4 4 6 4]\n",
      "  [4 2 2 0 0]\n",
      "  [8 0 6 2 1]]]\n",
      "105\n",
      "\n",
      "\n",
      "[[[0.39640163 0.55832255 0.27379814 0.66002391 0.05904733]\n",
      "  [0.43202153 0.37592617 0.11776592 0.77278702 0.81400713]\n",
      "  [0.44151475 0.76414261 0.724871   0.30365962 0.76459904]]\n",
      "\n",
      " [[0.75139016 0.81346157 0.3024834  0.70852028 0.7060878 ]\n",
      "  [0.51962688 0.81416602 0.70055224 0.29831637 0.10603844]\n",
      "  [0.34147629 0.96627762 0.95868496 0.28726037 0.26186293]]]\n",
      "15.995093678445276\n"
     ]
    }
   ],
   "source": [
    "# your code here\n",
    "print(matrix_a1); print(np.sum(matrix_a1))\n",
    "print('\\n')\n",
    "print(matrix_a2); print(np.sum(matrix_a2))\n",
    "print('\\n')\n",
    "print(matrix_a3); print(np.sum(matrix_a3))"
   ]
  },
  {
   "cell_type": "markdown",
   "metadata": {},
   "source": [
    "#### 5. Create a 5x2x3 3-dimensional array with all values equaling 1. Assign the array to variable *b*."
   ]
  },
  {
   "cell_type": "code",
   "execution_count": 7,
   "metadata": {},
   "outputs": [],
   "source": [
    "# your code here\n",
    "matrix_b1 = np.full((5,2,3), 1)"
   ]
  },
  {
   "cell_type": "markdown",
   "metadata": {},
   "source": [
    "#### 6. Print *b*.\n"
   ]
  },
  {
   "cell_type": "code",
   "execution_count": 8,
   "metadata": {},
   "outputs": [
    {
     "name": "stdout",
     "output_type": "stream",
     "text": [
      "[[[1 1 1]\n",
      "  [1 1 1]]\n",
      "\n",
      " [[1 1 1]\n",
      "  [1 1 1]]\n",
      "\n",
      " [[1 1 1]\n",
      "  [1 1 1]]\n",
      "\n",
      " [[1 1 1]\n",
      "  [1 1 1]]\n",
      "\n",
      " [[1 1 1]\n",
      "  [1 1 1]]]\n"
     ]
    }
   ],
   "source": [
    "# your code here\n",
    "print(matrix_b1)"
   ]
  },
  {
   "cell_type": "markdown",
   "metadata": {},
   "source": [
    "#### 7. Do *a* and *b* have the same size? How do you prove that in Python code?"
   ]
  },
  {
   "cell_type": "code",
   "execution_count": 9,
   "metadata": {},
   "outputs": [
    {
     "name": "stdout",
     "output_type": "stream",
     "text": [
      "True\n",
      "True\n",
      "True\n"
     ]
    }
   ],
   "source": [
    "# your code here\n",
    "print(np.size(matrix_a1) == np.size(matrix_b1))\n",
    "print(np.size(matrix_a2) == np.size(matrix_b1))\n",
    "print(np.size(matrix_a3) == np.size(matrix_b1))"
   ]
  },
  {
   "cell_type": "markdown",
   "metadata": {},
   "source": [
    "#### 8. Are you able to add *a* and *b*? Why or why not?\n"
   ]
  },
  {
   "cell_type": "code",
   "execution_count": 10,
   "metadata": {},
   "outputs": [
    {
     "name": "stdout",
     "output_type": "stream",
     "text": [
      "It is not possible to apply Operation Overload with different sized arrays\n"
     ]
    }
   ],
   "source": [
    "# your answer here\n",
    "\"\"\" matrix_c = matrix_a1 + matrix_b1 \"\"\"\n",
    "# Not possible: ValueError operands could not be broadcast together with shapes (2,3,5) & (5,2,3)\n",
    "\n",
    "print(\"It is not possible to apply Operation Overload with different sized arrays\")"
   ]
  },
  {
   "cell_type": "markdown",
   "metadata": {},
   "source": [
    "#### 9. Transpose *b* so that it has the same structure of *a* (i.e. become a 2x3x5 array). Assign the transposed array to variable *c*."
   ]
  },
  {
   "cell_type": "code",
   "execution_count": 11,
   "metadata": {},
   "outputs": [
    {
     "name": "stdout",
     "output_type": "stream",
     "text": [
      "[[[1 1 1 1 1]\n",
      "  [1 1 1 1 1]\n",
      "  [1 1 1 1 1]]\n",
      "\n",
      " [[1 1 1 1 1]\n",
      "  [1 1 1 1 1]\n",
      "  [1 1 1 1 1]]]\n",
      "\n",
      "\n",
      "[[[0.63738609 0.51900223 0.48170354 0.79620774 0.24801222]\n",
      "  [0.52389055 0.51962959 0.20853137 0.67102843 0.79062783]\n",
      "  [0.94432205 0.09672956 0.59041362 0.07885209 0.1130005 ]]\n",
      "\n",
      " [[0.4482097  0.32917091 0.65512199 0.01687548 0.77570553]\n",
      "  [0.88740604 0.52204082 0.38703411 0.91822614 0.79666041]\n",
      "  [0.8870472  0.71302038 0.24458975 0.64363166 0.71817414]]]\n"
     ]
    }
   ],
   "source": [
    "# your code here\n",
    "matrix_b2 = (matrix_b1.transpose(1,2,0))\n",
    "print(matrix_b2)\n",
    "print('\\n')\n",
    "print(matrix_a1)"
   ]
  },
  {
   "cell_type": "markdown",
   "metadata": {},
   "source": [
    "#### 10. Try to add *a* and *c*. Now it should work. Assign the sum to variable *d*. But why does it work now?"
   ]
  },
  {
   "cell_type": "code",
   "execution_count": 12,
   "metadata": {},
   "outputs": [],
   "source": [
    "# your code/answer here\n",
    "matrix_d = matrix_a1 + matrix_b2"
   ]
  },
  {
   "cell_type": "markdown",
   "metadata": {},
   "source": [
    "#### 11. Print *a* and *d*. Notice the difference and relation of the two array in terms of the values? Explain."
   ]
  },
  {
   "cell_type": "code",
   "execution_count": 13,
   "metadata": {},
   "outputs": [
    {
     "name": "stdout",
     "output_type": "stream",
     "text": [
      "[[[0.63738609 0.51900223 0.48170354 0.79620774 0.24801222]\n",
      "  [0.52389055 0.51962959 0.20853137 0.67102843 0.79062783]\n",
      "  [0.94432205 0.09672956 0.59041362 0.07885209 0.1130005 ]]\n",
      "\n",
      " [[0.4482097  0.32917091 0.65512199 0.01687548 0.77570553]\n",
      "  [0.88740604 0.52204082 0.38703411 0.91822614 0.79666041]\n",
      "  [0.8870472  0.71302038 0.24458975 0.64363166 0.71817414]]]\n",
      "\n",
      "\n",
      "[[[1.63738609 1.51900223 1.48170354 1.79620774 1.24801222]\n",
      "  [1.52389055 1.51962959 1.20853137 1.67102843 1.79062783]\n",
      "  [1.94432205 1.09672956 1.59041362 1.07885209 1.1130005 ]]\n",
      "\n",
      " [[1.4482097  1.32917091 1.65512199 1.01687548 1.77570553]\n",
      "  [1.88740604 1.52204082 1.38703411 1.91822614 1.79666041]\n",
      "  [1.8870472  1.71302038 1.24458975 1.64363166 1.71817414]]]\n"
     ]
    },
    {
     "data": {
      "text/plain": [
       "'Sum overload has added each item with each item between matrices'"
      ]
     },
     "execution_count": 13,
     "metadata": {},
     "output_type": "execute_result"
    }
   ],
   "source": [
    "# your code/answer here\n",
    "print(matrix_a1)\n",
    "print('\\n')\n",
    "print(matrix_d)\n",
    "\n",
    "\"\"\"Sum overload has added each item with each item between matrices\"\"\""
   ]
  },
  {
   "cell_type": "markdown",
   "metadata": {},
   "source": [
    "#### 12. Multiply *a* and *c*. Assign the result to *e*."
   ]
  },
  {
   "cell_type": "code",
   "execution_count": 14,
   "metadata": {},
   "outputs": [
    {
     "name": "stdout",
     "output_type": "stream",
     "text": [
      "[[[0.63738609 0.51900223 0.48170354 0.79620774 0.24801222]\n",
      "  [0.52389055 0.51962959 0.20853137 0.67102843 0.79062783]\n",
      "  [0.94432205 0.09672956 0.59041362 0.07885209 0.1130005 ]]\n",
      "\n",
      " [[0.4482097  0.32917091 0.65512199 0.01687548 0.77570553]\n",
      "  [0.88740604 0.52204082 0.38703411 0.91822614 0.79666041]\n",
      "  [0.8870472  0.71302038 0.24458975 0.64363166 0.71817414]]]\n"
     ]
    }
   ],
   "source": [
    "# your code here\n",
    "matrix_e = matrix_a1 * matrix_b2\n",
    "print(matrix_e)"
   ]
  },
  {
   "cell_type": "markdown",
   "metadata": {},
   "source": [
    "#### 13. Does *e* equal to *a*? Why or why not?\n"
   ]
  },
  {
   "cell_type": "code",
   "execution_count": 15,
   "metadata": {},
   "outputs": [
    {
     "name": "stdout",
     "output_type": "stream",
     "text": [
      "[[[ True  True  True  True  True]\n",
      "  [ True  True  True  True  True]\n",
      "  [ True  True  True  True  True]]\n",
      "\n",
      " [[ True  True  True  True  True]\n",
      "  [ True  True  True  True  True]\n",
      "  [ True  True  True  True  True]]]\n"
     ]
    },
    {
     "data": {
      "text/plain": [
       "'Matrix are the same since matrix_b2 is a matrix formed by ones and its multiplication is the same matrix_a1'"
      ]
     },
     "execution_count": 15,
     "metadata": {},
     "output_type": "execute_result"
    }
   ],
   "source": [
    "# your code/answer here\n",
    "print(matrix_e == matrix_a1)\n",
    "\n",
    "\"\"\"Matrix are the same since matrix_b2 is a matrix formed by ones and its multiplication is the same matrix_a1\"\"\""
   ]
  },
  {
   "cell_type": "markdown",
   "metadata": {},
   "source": [
    "#### 14. Identify the max, min, and mean values in *d*. Assign those values to variables *d_max*, *d_min* and *d_mean*."
   ]
  },
  {
   "cell_type": "code",
   "execution_count": 16,
   "metadata": {},
   "outputs": [
    {
     "name": "stdout",
     "output_type": "stream",
     "text": [
      "max is 1.9443220454559498\n",
      "mean is 1.5387417226715725\n",
      "min is 1.016875479273204\n",
      "\n",
      "\n",
      "[[[1.63738609 1.51900223 1.48170354 1.79620774 1.24801222]\n",
      "  [1.52389055 1.51962959 1.20853137 1.67102843 1.79062783]\n",
      "  [1.94432205 1.09672956 1.59041362 1.07885209 1.1130005 ]]\n",
      "\n",
      " [[1.4482097  1.32917091 1.65512199 1.01687548 1.77570553]\n",
      "  [1.88740604 1.52204082 1.38703411 1.91822614 1.79666041]\n",
      "  [1.8870472  1.71302038 1.24458975 1.64363166 1.71817414]]]\n"
     ]
    }
   ],
   "source": [
    "# your code here\n",
    "# matrix_d = matrix_a1 + matrix_b2 (should be c)\n",
    "\n",
    "d_max = matrix_d.max()\n",
    "d_mean = matrix_d.mean()\n",
    "d_min = matrix_d.min()\n",
    "\n",
    "print(f'max is {d_max}')\n",
    "print(f'mean is {d_mean}')\n",
    "print(f'min is {d_min}')\n",
    "print('\\n')\n",
    "print(matrix_d)\n",
    "\n"
   ]
  },
  {
   "cell_type": "markdown",
   "metadata": {},
   "source": [
    "#### 15. Now we want to label the values in *d*. First create an empty array *f* with the same shape (i.e. 2x3x5) as *d* using `np.empty`.\n"
   ]
  },
  {
   "cell_type": "code",
   "execution_count": 17,
   "metadata": {},
   "outputs": [
    {
     "name": "stdout",
     "output_type": "stream",
     "text": [
      "[[[1.63738609 1.51900223 1.48170354 1.79620774 1.24801222]\n",
      "  [1.52389055 1.51962959 1.20853137 1.67102843 1.79062783]\n",
      "  [1.94432205 1.09672956 1.59041362 1.07885209 1.1130005 ]]\n",
      "\n",
      " [[1.4482097  1.32917091 1.65512199 1.01687548 1.77570553]\n",
      "  [1.88740604 1.52204082 1.38703411 1.91822614 1.79666041]\n",
      "  [1.8870472  1.71302038 1.24458975 1.64363166 1.71817414]]]\n"
     ]
    }
   ],
   "source": [
    "# your code here\n",
    "matrix_f = np.empty((2,3,5), dtype=float)\n",
    "print(matrix_f)"
   ]
  },
  {
   "cell_type": "markdown",
   "metadata": {},
   "source": [
    "#### 16. Populate the values in *f*. \n",
    "\n",
    "For each value in *d*, if it's larger than *d_min* but smaller than *d_mean*, assign 25 to the corresponding value in *f*. If a value in *d* is larger than *d_mean* but smaller than *d_max*, assign 75 to the corresponding value in *f*. If a value equals to *d_mean*, assign 50 to the corresponding value in *f*. Assign 0 to the corresponding value(s) in *f* for *d_min* in *d*. Assign 100 to the corresponding value(s) in *f* for *d_max* in *d*. In the end, f should have only the following values: 0, 25, 50, 75, and 100.\n",
    "\n",
    "**Note**: you don't have to use Numpy in this question."
   ]
  },
  {
   "cell_type": "code",
   "execution_count": 18,
   "metadata": {},
   "outputs": [
    {
     "name": "stdout",
     "output_type": "stream",
     "text": [
      "Before matrix_f: \n",
      "[[[1.63738609 1.51900223 1.48170354 1.79620774 1.24801222]\n",
      "  [1.52389055 1.51962959 1.20853137 1.67102843 1.79062783]\n",
      "  [1.94432205 1.09672956 1.59041362 1.07885209 1.1130005 ]]\n",
      "\n",
      " [[1.4482097  1.32917091 1.65512199 1.01687548 1.77570553]\n",
      "  [1.88740604 1.52204082 1.38703411 1.91822614 1.79666041]\n",
      "  [1.8870472  1.71302038 1.24458975 1.64363166 1.71817414]]]\n",
      "\n",
      "\n",
      "After matrix_f: \n",
      "[[['75.0' '25.0' '25.0' '75.0' '25.0']\n",
      "  ['25.0' '25.0' '25.0' '75.0' '75.0']\n",
      "  ['100.0' '25.0' '75.0' '25.0' '25.0']]\n",
      "\n",
      " [['25.0' '25.0' '75.0' '0' '75.0']\n",
      "  ['75.0' '25.0' '25.0' '75.0' '75.0']\n",
      "  ['75.0' '75.0' '25.0' '75.0' '75.0']]]\n"
     ]
    }
   ],
   "source": [
    "print(f'Before matrix_f: \\n{matrix_f}')\n",
    "print('\\n')\n",
    "# This has to be rerrun with code in 15\n",
    "\n",
    "matrix_f = np.where(matrix_d == d_min, 0, \n",
    "                    np.where(matrix_d < d_mean, 25., \n",
    "                             np.where(matrix_d == d_mean, 50., \n",
    "                                      np.where(matrix_d < d_max, 75., \n",
    "                                               np.where(matrix_d == d_max, 100., 'something is wrong')))))\n",
    "\n",
    "print(f'After matrix_f: \\n{matrix_f}')\n"
   ]
  },
  {
   "cell_type": "markdown",
   "metadata": {},
   "source": [
    "#### 17. Print *d* and *f*. Do you have your expected *f*?\n",
    "For instance, if your *d* is:\n",
    "```python\n",
    "[[[1.85836099, 1.67064465, 1.62576044, 1.40243961, 1.88454931],\n",
    "[1.75354326, 1.69403643, 1.36729252, 1.61415071, 1.12104981],\n",
    "[1.72201435, 1.1862918 , 1.87078449, 1.7726778 , 1.88180042]],\n",
    "[[1.44747908, 1.31673383, 1.02000951, 1.52218947, 1.97066381],\n",
    "[1.79129243, 1.74983003, 1.96028037, 1.85166831, 1.65450881],\n",
    "[1.18068344, 1.9587381 , 1.00656599, 1.93402165, 1.73514584]]]\n",
    "```\n",
    "Your *f* should be:\n",
    "```python\n",
    "[[[ 75.,  75.,  75.,  25.,  75.],\n",
    "[ 75.,  75.,  25.,  25.,  25.],\n",
    "[ 75.,  25.,  75.,  75.,  75.]],\n",
    "[[ 25.,  25.,  25.,  25., 100.],\n",
    "[ 75.,  75.,  75.,  75.,  75.],\n",
    "[ 25.,  75.,   0.,  75.,  75.]]]\n",
    "```"
   ]
  },
  {
   "cell_type": "code",
   "execution_count": 19,
   "metadata": {},
   "outputs": [
    {
     "name": "stdout",
     "output_type": "stream",
     "text": [
      "Matrix_d:\n",
      " [[[1.63738609 1.51900223 1.48170354 1.79620774 1.24801222]\n",
      "  [1.52389055 1.51962959 1.20853137 1.67102843 1.79062783]\n",
      "  [1.94432205 1.09672956 1.59041362 1.07885209 1.1130005 ]]\n",
      "\n",
      " [[1.4482097  1.32917091 1.65512199 1.01687548 1.77570553]\n",
      "  [1.88740604 1.52204082 1.38703411 1.91822614 1.79666041]\n",
      "  [1.8870472  1.71302038 1.24458975 1.64363166 1.71817414]]]\n",
      "\n",
      "\n",
      "Matrix_f:\n",
      " [[['75.0' '25.0' '25.0' '75.0' '25.0']\n",
      "  ['25.0' '25.0' '25.0' '75.0' '75.0']\n",
      "  ['100.0' '25.0' '75.0' '25.0' '25.0']]\n",
      "\n",
      " [['25.0' '25.0' '75.0' '0' '75.0']\n",
      "  ['75.0' '25.0' '25.0' '75.0' '75.0']\n",
      "  ['75.0' '75.0' '25.0' '75.0' '75.0']]]\n"
     ]
    }
   ],
   "source": [
    "# your code here\n",
    "print(f'Matrix_d:\\n {matrix_d}')\n",
    "print('\\n')\n",
    "print(f'Matrix_f:\\n {matrix_f}')"
   ]
  },
  {
   "cell_type": "markdown",
   "metadata": {},
   "source": [
    "#### 18. Bonus question: instead of using numbers (i.e. 0, 25, 50, 75, and 100), use string values  (\"A\", \"B\", \"C\", \"D\", and \"E\") to label the array elements. For the example above, the expected result is:\n",
    "\n",
    "```python\n",
    "[[[ 'D',  'D',  'D',  'B',  'D'],\n",
    "[ 'D',  'D',  'B',  'B',  'B'],\n",
    "[ 'D',  'B',  'D',  'D',  'D']],\n",
    "[[ 'B',  'B',  'B',  'B',  'E'],\n",
    "[ 'D',  'D',  'D',  'D',  'D'],\n",
    "[ 'B',  'D',   'A',  'D', 'D']]]\n",
    "```\n",
    "**Note**: you don't have to use Numpy in this question."
   ]
  },
  {
   "cell_type": "code",
   "execution_count": 20,
   "metadata": {},
   "outputs": [
    {
     "name": "stdout",
     "output_type": "stream",
     "text": [
      "Matrix_g: \n",
      "[[['D' 'B' 'B' 'D' 'B']\n",
      "  ['B' 'B' 'B' 'D' 'D']\n",
      "  ['E' 'B' 'D' 'B' 'B']]\n",
      "\n",
      " [['B' 'B' 'D' 'A' 'D']\n",
      "  ['D' 'B' 'B' 'D' 'D']\n",
      "  ['D' 'D' 'B' 'D' 'D']]]\n"
     ]
    }
   ],
   "source": [
    "# your code here\n",
    "matrix_g = np.where(matrix_d == d_min, 'A', \n",
    "                    np.where(matrix_d < d_mean, 'B', \n",
    "                             np.where(matrix_d == d_mean, 'C', \n",
    "                                      np.where(matrix_d < d_max, 'D', \n",
    "                                               np.where(matrix_d == d_max, 'E', 'something is wrong')))))\n",
    "\n",
    "print(f'Matrix_g: \\n{matrix_g}')\n"
   ]
  },
  {
   "cell_type": "code",
   "execution_count": null,
   "metadata": {},
   "outputs": [],
   "source": []
  },
  {
   "cell_type": "code",
   "execution_count": null,
   "metadata": {},
   "outputs": [],
   "source": []
  },
  {
   "cell_type": "code",
   "execution_count": null,
   "metadata": {},
   "outputs": [],
   "source": []
  }
 ],
 "metadata": {
  "kernelspec": {
   "display_name": "Python 3",
   "language": "python",
   "name": "python3"
  },
  "language_info": {
   "codemirror_mode": {
    "name": "ipython",
    "version": 3
   },
   "file_extension": ".py",
   "mimetype": "text/x-python",
   "name": "python",
   "nbconvert_exporter": "python",
   "pygments_lexer": "ipython3",
   "version": "3.7.7"
  }
 },
 "nbformat": 4,
 "nbformat_minor": 2
}
