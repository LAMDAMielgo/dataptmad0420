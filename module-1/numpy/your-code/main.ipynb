{
 "cells": [
  {
   "cell_type": "markdown",
   "metadata": {},
   "source": [
    "# Introduction to NumPy\n",
    "\n",
    "\n",
    "#### 1. Import NumPy under the name np."
   ]
  },
  {
   "cell_type": "code",
   "execution_count": 1,
   "metadata": {},
   "outputs": [],
   "source": [
    "# your code here\n",
    "import numpy as np"
   ]
  },
  {
   "cell_type": "markdown",
   "metadata": {},
   "source": [
    "#### 2. Print your NumPy version."
   ]
  },
  {
   "cell_type": "code",
   "execution_count": 2,
   "metadata": {},
   "outputs": [
    {
     "name": "stdout",
     "output_type": "stream",
     "text": [
      "1.18.1\n"
     ]
    }
   ],
   "source": [
    "# your code here\n",
    "print(np.__version__)"
   ]
  },
  {
   "cell_type": "markdown",
   "metadata": {},
   "source": [
    "#### 3. Generate a 2x3x5 3-dimensional array with random values. Assign the array to variable *a*.\n",
    "**Challenge**: there are at least three easy ways that use numpy to generate random arrays. How many ways can you find?"
   ]
  },
  {
   "cell_type": "code",
   "execution_count": 9,
   "metadata": {},
   "outputs": [],
   "source": [
    "# Method 1\n",
    "matrix_a1 = np.random.random((2,3,5))"
   ]
  },
  {
   "cell_type": "code",
   "execution_count": 10,
   "metadata": {},
   "outputs": [],
   "source": [
    "# Method 2\n",
    "matrix_a2 = np.random.randint(0, 10, size=(2,3,5))"
   ]
  },
  {
   "cell_type": "code",
   "execution_count": 11,
   "metadata": {},
   "outputs": [],
   "source": [
    "# Method 3\n",
    "matrix_a3 = np.random.rand(2,3,5)"
   ]
  },
  {
   "cell_type": "markdown",
   "metadata": {},
   "source": [
    "#### 4. Print *a*.\n"
   ]
  },
  {
   "cell_type": "code",
   "execution_count": 13,
   "metadata": {},
   "outputs": [
    {
     "name": "stdout",
     "output_type": "stream",
     "text": [
      "[[[0.50589538 0.78642794 0.44239947 0.28705164 0.03901382]\n",
      "  [0.55476072 0.6772926  0.12056196 0.05270612 0.26284963]\n",
      "  [0.1084593  0.58468173 0.45954974 0.46605362 0.19656148]]\n",
      "\n",
      " [[0.57660252 0.24774581 0.89227287 0.685972   0.80140422]\n",
      "  [0.71756036 0.49256164 0.52292621 0.07965301 0.62242733]\n",
      "  [0.51765818 0.87954036 0.57128268 0.2285805  0.93018493]]]\n",
      "14.310637789646815\n",
      "\n",
      "\n",
      "[[[2 9 4 6 8]\n",
      "  [9 8 1 8 3]\n",
      "  [9 0 8 0 8]]\n",
      "\n",
      " [[0 1 9 0 6]\n",
      "  [2 4 6 1 2]\n",
      "  [5 0 2 0 8]]]\n",
      "129\n",
      "\n",
      "\n",
      "[[[0.97887492 0.87211771 0.77990493 0.79607261 0.59189752]\n",
      "  [0.58893537 0.74118011 0.89873738 0.42850842 0.14578322]\n",
      "  [0.36454272 0.07674805 0.74183958 0.17185741 0.7525782 ]]\n",
      "\n",
      " [[0.16150062 0.52012624 0.21268286 0.652563   0.68091512]\n",
      "  [0.91585077 0.24257542 0.30071973 0.34613898 0.37954701]\n",
      "  [0.86392082 0.50209575 0.20260252 0.93911519 0.29270663]]]\n",
      "16.142638800464933\n"
     ]
    }
   ],
   "source": [
    "# your code here\n",
    "print(matrix_a1); print(np.sum(matrix_a1))\n",
    "print('\\n')\n",
    "print(matrix_a2); print(np.sum(matrix_a2))\n",
    "print('\\n')\n",
    "print(matrix_a3); print(np.sum(matrix_a3))"
   ]
  },
  {
   "cell_type": "markdown",
   "metadata": {},
   "source": [
    "#### 5. Create a 5x2x3 3-dimensional array with all values equaling 1. Assign the array to variable *b*."
   ]
  },
  {
   "cell_type": "code",
   "execution_count": 39,
   "metadata": {},
   "outputs": [],
   "source": [
    "# your code here\n",
    "matrix_b1 = np.full((5,2,3), 1)"
   ]
  },
  {
   "cell_type": "markdown",
   "metadata": {},
   "source": [
    "#### 6. Print *b*.\n"
   ]
  },
  {
   "cell_type": "code",
   "execution_count": 40,
   "metadata": {},
   "outputs": [
    {
     "name": "stdout",
     "output_type": "stream",
     "text": [
      "[[[1 1 1]\n",
      "  [1 1 1]]\n",
      "\n",
      " [[1 1 1]\n",
      "  [1 1 1]]\n",
      "\n",
      " [[1 1 1]\n",
      "  [1 1 1]]\n",
      "\n",
      " [[1 1 1]\n",
      "  [1 1 1]]\n",
      "\n",
      " [[1 1 1]\n",
      "  [1 1 1]]]\n"
     ]
    }
   ],
   "source": [
    "# your code here\n",
    "print(matrix_b1)"
   ]
  },
  {
   "cell_type": "markdown",
   "metadata": {},
   "source": [
    "#### 7. Do *a* and *b* have the same size? How do you prove that in Python code?"
   ]
  },
  {
   "cell_type": "code",
   "execution_count": 41,
   "metadata": {},
   "outputs": [
    {
     "name": "stdout",
     "output_type": "stream",
     "text": [
      "True\n",
      "True\n",
      "True\n"
     ]
    }
   ],
   "source": [
    "# your code here\n",
    "print(np.size(matrix_a1) == np.size(matrix_b1))\n",
    "print(np.size(matrix_a2) == np.size(matrix_b1))\n",
    "print(np.size(matrix_a3) == np.size(matrix_b1))"
   ]
  },
  {
   "cell_type": "markdown",
   "metadata": {},
   "source": [
    "#### 8. Are you able to add *a* and *b*? Why or why not?\n"
   ]
  },
  {
   "cell_type": "code",
   "execution_count": 42,
   "metadata": {},
   "outputs": [
    {
     "name": "stdout",
     "output_type": "stream",
     "text": [
      "It is not possible to apply Operation Overload with different sized arrays\n"
     ]
    }
   ],
   "source": [
    "# your answer here\n",
    "\"\"\" matrix_c = matrix_a1 + matrix_b1 \"\"\"\n",
    "# Not possible: ValueError operands could not be broadcast together with shapes (2,3,5) & (5,2,3)\n",
    "\n",
    "print(\"It is not possible to apply Operation Overload with different sized arrays\")"
   ]
  },
  {
   "cell_type": "markdown",
   "metadata": {},
   "source": [
    "#### 9. Transpose *b* so that it has the same structure of *a* (i.e. become a 2x3x5 array). Assign the transposed array to variable *c*."
   ]
  },
  {
   "cell_type": "code",
   "execution_count": 57,
   "metadata": {},
   "outputs": [
    {
     "name": "stdout",
     "output_type": "stream",
     "text": [
      "[[[1 1 1 1 1]\n",
      "  [1 1 1 1 1]\n",
      "  [1 1 1 1 1]]\n",
      "\n",
      " [[1 1 1 1 1]\n",
      "  [1 1 1 1 1]\n",
      "  [1 1 1 1 1]]]\n",
      "[[[0.50589538 0.78642794 0.44239947 0.28705164 0.03901382]\n",
      "  [0.55476072 0.6772926  0.12056196 0.05270612 0.26284963]\n",
      "  [0.1084593  0.58468173 0.45954974 0.46605362 0.19656148]]\n",
      "\n",
      " [[0.57660252 0.24774581 0.89227287 0.685972   0.80140422]\n",
      "  [0.71756036 0.49256164 0.52292621 0.07965301 0.62242733]\n",
      "  [0.51765818 0.87954036 0.57128268 0.2285805  0.93018493]]]\n"
     ]
    }
   ],
   "source": [
    "# your code here\n",
    "matrix_b2 = (matrix_b1.transpose(1,2,0))\n",
    "print(matrix_b2)\n",
    "print(matrix_a1)"
   ]
  },
  {
   "cell_type": "markdown",
   "metadata": {},
   "source": [
    "#### 10. Try to add *a* and *c*. Now it should work. Assign the sum to variable *d*. But why does it work now?"
   ]
  },
  {
   "cell_type": "code",
   "execution_count": 58,
   "metadata": {},
   "outputs": [],
   "source": [
    "# your code/answer here\n",
    "matrix_d = matrix_a1 + matrix_b2"
   ]
  },
  {
   "cell_type": "markdown",
   "metadata": {},
   "source": [
    "#### 11. Print *a* and *d*. Notice the difference and relation of the two array in terms of the values? Explain."
   ]
  },
  {
   "cell_type": "code",
   "execution_count": 59,
   "metadata": {},
   "outputs": [
    {
     "name": "stdout",
     "output_type": "stream",
     "text": [
      "[[[0.50589538 0.78642794 0.44239947 0.28705164 0.03901382]\n",
      "  [0.55476072 0.6772926  0.12056196 0.05270612 0.26284963]\n",
      "  [0.1084593  0.58468173 0.45954974 0.46605362 0.19656148]]\n",
      "\n",
      " [[0.57660252 0.24774581 0.89227287 0.685972   0.80140422]\n",
      "  [0.71756036 0.49256164 0.52292621 0.07965301 0.62242733]\n",
      "  [0.51765818 0.87954036 0.57128268 0.2285805  0.93018493]]]\n",
      "\n",
      "\n",
      "[[[1.50589538 1.78642794 1.44239947 1.28705164 1.03901382]\n",
      "  [1.55476072 1.6772926  1.12056196 1.05270612 1.26284963]\n",
      "  [1.1084593  1.58468173 1.45954974 1.46605362 1.19656148]]\n",
      "\n",
      " [[1.57660252 1.24774581 1.89227287 1.685972   1.80140422]\n",
      "  [1.71756036 1.49256164 1.52292621 1.07965301 1.62242733]\n",
      "  [1.51765818 1.87954036 1.57128268 1.2285805  1.93018493]]]\n"
     ]
    }
   ],
   "source": [
    "# your code/answer here\n",
    "print(matrix_a1)\n",
    "print('\\n')\n",
    "print(matrix_d)\n",
    "\n",
    "\"\"\"Sum overload has added each item with each item between matrices\"\"\""
   ]
  },
  {
   "cell_type": "markdown",
   "metadata": {},
   "source": [
    "#### 12. Multiply *a* and *c*. Assign the result to *e*."
   ]
  },
  {
   "cell_type": "code",
   "execution_count": 62,
   "metadata": {},
   "outputs": [
    {
     "name": "stdout",
     "output_type": "stream",
     "text": [
      "[[[0.50589538 0.78642794 0.44239947 0.28705164 0.03901382]\n",
      "  [0.55476072 0.6772926  0.12056196 0.05270612 0.26284963]\n",
      "  [0.1084593  0.58468173 0.45954974 0.46605362 0.19656148]]\n",
      "\n",
      " [[0.57660252 0.24774581 0.89227287 0.685972   0.80140422]\n",
      "  [0.71756036 0.49256164 0.52292621 0.07965301 0.62242733]\n",
      "  [0.51765818 0.87954036 0.57128268 0.2285805  0.93018493]]]\n"
     ]
    }
   ],
   "source": [
    "# your code here\n",
    "matrix_e = matrix_a1 * matrix_b2\n",
    "print(matrix_e)"
   ]
  },
  {
   "cell_type": "markdown",
   "metadata": {},
   "source": [
    "#### 13. Does *e* equal to *a*? Why or why not?\n"
   ]
  },
  {
   "cell_type": "code",
   "execution_count": 63,
   "metadata": {},
   "outputs": [
    {
     "name": "stdout",
     "output_type": "stream",
     "text": [
      "[[[ True  True  True  True  True]\n",
      "  [ True  True  True  True  True]\n",
      "  [ True  True  True  True  True]]\n",
      "\n",
      " [[ True  True  True  True  True]\n",
      "  [ True  True  True  True  True]\n",
      "  [ True  True  True  True  True]]]\n"
     ]
    }
   ],
   "source": [
    "# your code/answer here\n",
    "print(matrix_e == matrix_a1)\n",
    "\n",
    "\"\"\"Matrix are the same since matrix_b2 is a matrix formed by ones and its multiplication is the same matrix_a1\"\"\""
   ]
  },
  {
   "cell_type": "markdown",
   "metadata": {},
   "source": [
    "#### 14. Identify the max, min, and mean values in *d*. Assign those values to variables *d_max*, *d_min* and *d_mean*."
   ]
  },
  {
   "cell_type": "code",
   "execution_count": 69,
   "metadata": {},
   "outputs": [
    {
     "name": "stdout",
     "output_type": "stream",
     "text": [
      "max is 1.9301849277282783\n",
      "mean is 1.477021259654894\n",
      "min is 1.0390138201294774\n",
      "\n",
      "\n",
      "[[[1.50589538 1.78642794 1.44239947 1.28705164 1.03901382]\n",
      "  [1.55476072 1.6772926  1.12056196 1.05270612 1.26284963]\n",
      "  [1.1084593  1.58468173 1.45954974 1.46605362 1.19656148]]\n",
      "\n",
      " [[1.57660252 1.24774581 1.89227287 1.685972   1.80140422]\n",
      "  [1.71756036 1.49256164 1.52292621 1.07965301 1.62242733]\n",
      "  [1.51765818 1.87954036 1.57128268 1.2285805  1.93018493]]]\n"
     ]
    }
   ],
   "source": [
    "# your code here\n",
    "# matrix_d = matrix_a1 + matrix_b2 (should be c)\n",
    "\n",
    "print(f'max is {matrix_d.max()}')\n",
    "print(f'mean is {matrix_d.mean()}')\n",
    "print(f'min is {matrix_d.min()}')\n",
    "print('\\n')\n",
    "print(matrix_d)\n"
   ]
  },
  {
   "cell_type": "markdown",
   "metadata": {},
   "source": [
    "#### 15. Now we want to label the values in *d*. First create an empty array *f* with the same shape (i.e. 2x3x5) as *d* using `np.empty`.\n"
   ]
  },
  {
   "cell_type": "code",
   "execution_count": 71,
   "metadata": {},
   "outputs": [
    {
     "name": "stdout",
     "output_type": "stream",
     "text": [
      "[[[1.50589538 1.78642794 1.44239947 1.28705164 1.03901382]\n",
      "  [1.55476072 1.6772926  1.12056196 1.05270612 1.26284963]\n",
      "  [1.1084593  1.58468173 1.45954974 1.46605362 1.19656148]]\n",
      "\n",
      " [[1.57660252 1.24774581 1.89227287 1.685972   1.80140422]\n",
      "  [1.71756036 1.49256164 1.52292621 1.07965301 1.62242733]\n",
      "  [1.51765818 1.87954036 1.57128268 1.2285805  1.93018493]]]\n"
     ]
    }
   ],
   "source": [
    "# your code here\n",
    "matrix_g = np.empty((2,3,5))\n",
    "print(matrix_g)"
   ]
  },
  {
   "cell_type": "markdown",
   "metadata": {},
   "source": [
    "#### 16. Populate the values in *f*. \n",
    "\n",
    "For each value in *d*, if it's larger than *d_min* but smaller than *d_mean*, assign 25 to the corresponding value in *f*. If a value in *d* is larger than *d_mean* but smaller than *d_max*, assign 75 to the corresponding value in *f*. If a value equals to *d_mean*, assign 50 to the corresponding value in *f*. Assign 0 to the corresponding value(s) in *f* for *d_min* in *d*. Assign 100 to the corresponding value(s) in *f* for *d_max* in *d*. In the end, f should have only the following values: 0, 25, 50, 75, and 100.\n",
    "\n",
    "**Note**: you don't have to use Numpy in this question."
   ]
  },
  {
   "cell_type": "code",
   "execution_count": 1,
   "metadata": {},
   "outputs": [],
   "source": [
    "# your code here"
   ]
  },
  {
   "cell_type": "markdown",
   "metadata": {},
   "source": [
    "#### 17. Print *d* and *f*. Do you have your expected *f*?\n",
    "For instance, if your *d* is:\n",
    "```python\n",
    "[[[1.85836099, 1.67064465, 1.62576044, 1.40243961, 1.88454931],\n",
    "[1.75354326, 1.69403643, 1.36729252, 1.61415071, 1.12104981],\n",
    "[1.72201435, 1.1862918 , 1.87078449, 1.7726778 , 1.88180042]],\n",
    "[[1.44747908, 1.31673383, 1.02000951, 1.52218947, 1.97066381],\n",
    "[1.79129243, 1.74983003, 1.96028037, 1.85166831, 1.65450881],\n",
    "[1.18068344, 1.9587381 , 1.00656599, 1.93402165, 1.73514584]]]\n",
    "```\n",
    "Your *f* should be:\n",
    "```python\n",
    "[[[ 75.,  75.,  75.,  25.,  75.],\n",
    "[ 75.,  75.,  25.,  25.,  25.],\n",
    "[ 75.,  25.,  75.,  75.,  75.]],\n",
    "[[ 25.,  25.,  25.,  25., 100.],\n",
    "[ 75.,  75.,  75.,  75.,  75.],\n",
    "[ 25.,  75.,   0.,  75.,  75.]]]\n",
    "```"
   ]
  },
  {
   "cell_type": "code",
   "execution_count": null,
   "metadata": {},
   "outputs": [],
   "source": [
    "# your code here"
   ]
  },
  {
   "cell_type": "markdown",
   "metadata": {},
   "source": [
    "#### 18. Bonus question: instead of using numbers (i.e. 0, 25, 50, 75, and 100), use string values  (\"A\", \"B\", \"C\", \"D\", and \"E\") to label the array elements. For the example above, the expected result is:\n",
    "\n",
    "```python\n",
    "[[[ 'D',  'D',  'D',  'B',  'D'],\n",
    "[ 'D',  'D',  'B',  'B',  'B'],\n",
    "[ 'D',  'B',  'D',  'D',  'D']],\n",
    "[[ 'B',  'B',  'B',  'B',  'E'],\n",
    "[ 'D',  'D',  'D',  'D',  'D'],\n",
    "[ 'B',  'D',   'A',  'D', 'D']]]\n",
    "```\n",
    "**Note**: you don't have to use Numpy in this question."
   ]
  },
  {
   "cell_type": "code",
   "execution_count": 45,
   "metadata": {},
   "outputs": [],
   "source": [
    "# your code here"
   ]
  },
  {
   "cell_type": "code",
   "execution_count": null,
   "metadata": {},
   "outputs": [],
   "source": []
  },
  {
   "cell_type": "code",
   "execution_count": null,
   "metadata": {},
   "outputs": [],
   "source": []
  },
  {
   "cell_type": "code",
   "execution_count": null,
   "metadata": {},
   "outputs": [],
   "source": []
  }
 ],
 "metadata": {
  "kernelspec": {
   "display_name": "Python 3",
   "language": "python",
   "name": "python3"
  },
  "language_info": {
   "codemirror_mode": {
    "name": "ipython",
    "version": 3
   },
   "file_extension": ".py",
   "mimetype": "text/x-python",
   "name": "python",
   "nbconvert_exporter": "python",
   "pygments_lexer": "ipython3",
   "version": "3.7.7"
  }
 },
 "nbformat": 4,
 "nbformat_minor": 2
}
