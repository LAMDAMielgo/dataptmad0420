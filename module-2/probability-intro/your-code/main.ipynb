{
 "cells": [
  {
   "cell_type": "markdown",
   "metadata": {},
   "source": [
    "# Introduction To Probability\n",
    "## Challenge 1\n",
    "\n",
    "A and B are events of a probability space with $(\\omega, \\sigma, P)$ such that $P(A) = 0.3$, $P(B) = 0.6$ and $P(A \\cap B) = 0.1$\n",
    "\n",
    "Which of the following statements are false?\n",
    "* $P(A \\cup B) = 0.6$\n",
    "* $P(A \\cap B^{C}) = 0.2$\n",
    "* $P(A \\cap (B \\cup B^{C})) = 0.4$\n",
    "* $P(A^{C} \\cap B^{C}) = 0.3$\n",
    "* $P((A \\cap B)^{C}) = 0.9$"
   ]
  },
  {
   "cell_type": "markdown",
   "metadata": {},
   "source": [
    "---------------------------------------------------------------------------------------------------------------\n",
    "*C == constant ? this is puzzling*\n",
    "\n",
    "---------------------------------------------------------------------------------------------------------------\n",
    "\n",
    "If $P(A \\cap B) = 0.1$ then A and B are DEPENDANT EVENTS because P(A)P(B) == 0.18 != $P(A \\cap B)$\n",
    "\n",
    "THEREFORE:\n",
    "\n",
    "$P(A \\cup B)$ = $P(A)$ + $P(B)$ - $P(A \\cap B) $ == $0.3 + 0.6 -0.1$ == **$0.8 != 0.6$**\n",
    "\n",
    "**ANSWER**: The first statement is false\n",
    "\n",
    "---------------------------------------------------------------------------------------------------------------"
   ]
  },
  {
   "cell_type": "markdown",
   "metadata": {},
   "source": [
    "## Challenge 2\n",
    "There is a box with 10 white balls, 12 red balls and 8 black balls. Calculate the probability of:\n",
    "* Taking a white ball out.\n",
    "* Taking a white ball out after taking a black ball out.\n",
    "* Taking a red ball out after taking a black and a red ball out.\n",
    "* Taking a red ball out after taking a black and a red ball out with reposition.\n",
    "\n",
    "**Hint**: Reposition means putting back the ball into the box after taking it out."
   ]
  },
  {
   "cell_type": "code",
   "execution_count": 18,
   "metadata": {},
   "outputs": [
    {
     "name": "stdout",
     "output_type": "stream",
     "text": [
      "[1]There is a 0.3333 change to take a white ball out\n",
      "[2]There is a 0.092 change to take a white ball out adter taking a black ball out of the box (w/o reposition)\n",
      "\n",
      "[3]There is a 0.0433 change to take a red ball out after taking a black and a red ball out (W/O reposition)\n",
      "[4]There is a 0.0427 change to take a red ball out after taking a black and a red ball out (W/ reposition)\n"
     ]
    }
   ],
   "source": [
    "w, r, b = 10, 12, 8 # balls in the box\n",
    "\n",
    "# 1 ->  white ball out\n",
    "prob_A = w/sum([w,r,b])\n",
    "print(f'[1]There is a {round(prob_A, 4)} change to take a white ball out')\n",
    "\n",
    "# 2 ->  white ball out after black ball\n",
    "prob_event_1 = b/sum([w,r,b])\n",
    "prob_event_2 = (w/(sum([w,r,b])-1))* prob_event_1\n",
    "print(f'[2]There is a {round(prob_event_2, 4)} change to take a white ball out adter taking a black ball out of the box (w/o reposition)\\n')\n",
    "\n",
    "# 3 ->  red ball out after black ball and red ball\n",
    "prob_event_2 = r/(sum([w,r,b])-1) * prob_event_1\n",
    "prob_event_3 = (r-1)/(sum([w,r,b])-2) * prob_event_2\n",
    "print(f'[3]There is a {round(prob_event_3, 4)} change to take a red ball out after taking a black and a red ball out (W/O reposition)')\n",
    "\n",
    "\n",
    "# 4 ->  red ball out after black ball and red ball WITH REPOSITION\n",
    "prob_event_2 = r/(sum([w,r,b])) * prob_event_1\n",
    "prob_event_3 = (r)/(sum([w,r,b])) * prob_event_2\n",
    "print(f'[4]There is a {round(prob_event_3, 4)} change to take a red ball out after taking a black and a red ball out (W/ reposition)')\n"
   ]
  },
  {
   "cell_type": "markdown",
   "metadata": {},
   "source": [
    "## Challenge 3\n",
    "\n",
    "You are planning to go on a picnic today but the morning is cloudy. You hate rain so you don't know whether to go out or stay home! To help you make a decision, you gather the following data about rainy days:\n",
    "\n",
    "* 50% of all rainy days start off cloudy!\n",
    "* Cloudy mornings are common. About 40% of days start cloudy. \n",
    "* This month is usually dry so only 3 of 30 days (10%) tend to be rainy. \n",
    "\n",
    "What is the chance of rain during the day?"
   ]
  },
  {
   "cell_type": "markdown",
   "metadata": {},
   "source": [
    "$P(Cloudy Morning | Rains) = 0.5$\n",
    "\n",
    "$P(Cloudy Morning) = 0.4$\n",
    "\n",
    "$P(Rains) = 0.1$\n",
    "\n",
    "$P(Rains | Cloudy Morning) = ???$\n",
    "\n",
    "------------------------------------------------------------------------------------------------------------------\n",
    "Aplication of BAYES THEOREM"
   ]
  },
  {
   "cell_type": "code",
   "execution_count": 21,
   "metadata": {},
   "outputs": [
    {
     "name": "stdout",
     "output_type": "stream",
     "text": [
      "There is a 0.125 change that it rains according to data\n"
     ]
    }
   ],
   "source": [
    "prob_B, prob_A, prob_BA = 0.4, 0.1, 0.5\n",
    "\n",
    "prob_AB = (prob_A * prob_BA)/prob_B\n",
    "print(f'There is a {round(prob_AB, 4)} change that it rains according to data')"
   ]
  },
  {
   "cell_type": "markdown",
   "metadata": {},
   "source": [
    "## Challenge 4\n",
    "\n",
    "One thousand people were asked through a telephone survey whether they thought more street lighting is needed at night or not.\n",
    "\n",
    "Out of the 480 men that answered the survey, 324 said yes and 156 said no. On the other hand, out of the 520 women that answered, 351 said yes and 169 said no. \n",
    "\n",
    "We wonder if men and women have a different opinions about the street lighting matter. Is gender relevant or irrelevant to the question?\n",
    "\n",
    "Consider the following events:\n",
    "- The answer is yes, so the person that answered thinks that more street lighting is needed.\n",
    "- The person who answered is a man.\n",
    "\n",
    "We want to know if these events are independent, that is, if the fact of wanting more light depends on whether one is male or female. Are these events independent or not?\n",
    "\n",
    "**Hint**: To clearly compare the answers by gender, it is best to place the data in a table."
   ]
  },
  {
   "cell_type": "code",
   "execution_count": 26,
   "metadata": {},
   "outputs": [
    {
     "data": {
      "text/html": [
       "<div>\n",
       "<style scoped>\n",
       "    .dataframe tbody tr th:only-of-type {\n",
       "        vertical-align: middle;\n",
       "    }\n",
       "\n",
       "    .dataframe tbody tr th {\n",
       "        vertical-align: top;\n",
       "    }\n",
       "\n",
       "    .dataframe thead tr th {\n",
       "        text-align: left;\n",
       "    }\n",
       "\n",
       "    .dataframe thead tr:last-of-type th {\n",
       "        text-align: right;\n",
       "    }\n",
       "</style>\n",
       "<table border=\"1\" class=\"dataframe\">\n",
       "  <thead>\n",
       "    <tr>\n",
       "      <th></th>\n",
       "      <th colspan=\"2\" halign=\"left\">counts</th>\n",
       "    </tr>\n",
       "    <tr>\n",
       "      <th>gender</th>\n",
       "      <th>men</th>\n",
       "      <th>women</th>\n",
       "    </tr>\n",
       "    <tr>\n",
       "      <th>answer</th>\n",
       "      <th></th>\n",
       "      <th></th>\n",
       "    </tr>\n",
       "  </thead>\n",
       "  <tbody>\n",
       "    <tr>\n",
       "      <th>no</th>\n",
       "      <td>156</td>\n",
       "      <td>169</td>\n",
       "    </tr>\n",
       "    <tr>\n",
       "      <th>yes</th>\n",
       "      <td>324</td>\n",
       "      <td>351</td>\n",
       "    </tr>\n",
       "  </tbody>\n",
       "</table>\n",
       "</div>"
      ],
      "text/plain": [
       "       counts      \n",
       "gender    men women\n",
       "answer             \n",
       "no        156   169\n",
       "yes       324   351"
      ]
     },
     "execution_count": 26,
     "metadata": {},
     "output_type": "execute_result"
    }
   ],
   "source": [
    "import pandas as pd\n",
    "import numpy as np\n",
    "\n",
    "# Construct Table\n",
    "l_counts = [324, 156, 351, 169], \n",
    "l_gender = ['men', 'men', 'women', 'women']\n",
    "l_answer = ['yes', 'no', 'yes', 'no']\n",
    "\n",
    "df = pd.DataFrame(list(zip(l_counts, l_gender, l_answer)), \n",
    "               columns =['counts', 'gender', 'answer'])\n",
    "\n",
    "table = pd.pivot_table(df, columns = 'gender', index = 'answer', aggfunc = np.sum)\n",
    "table"
   ]
  },
  {
   "cell_type": "markdown",
   "metadata": {},
   "source": [
    "**TWO EVENTS ARE INDEPENDENT IF:**\n",
    "\n",
    "$P(A|B) = P(A)$\n",
    "\n",
    "In this case: \n",
    "\n",
    "*if percentage of percentage_yes_men == percentage_yes_total*"
   ]
  },
  {
   "cell_type": "code",
   "execution_count": 48,
   "metadata": {},
   "outputs": [
    {
     "name": "stdout",
     "output_type": "stream",
     "text": [
      "The percentage of men and women who say YES is the same; therefore, there is no gender discrepancy\n",
      "Total percentage is 67.5%\n"
     ]
    }
   ],
   "source": [
    "total_men = sum(df[(df['gender'] == 'men')]['counts'].tolist())\n",
    "total_women = sum(df[(df['gender'] == 'women')]['counts'].tolist())\n",
    "\n",
    "yes_men = sum(df[(df['gender'] == 'men') & (df['answer']=='yes')]['counts'].tolist())\n",
    "yes_women = sum(df[(df['gender'] == 'women') & (df['answer']=='yes')]['counts'].tolist())\n",
    "\n",
    "# percentages\n",
    "percentage_yes_men = yes_men*100 / total_men\n",
    "percentage_yes_women = yes_women*100 / total_women\n",
    "\n",
    "percentage_yes_total = (yes_men + yes_women)*100 / (total_men + total_women)\n",
    "\n",
    "if p_yes_women == p_yes_men:\n",
    "    print('The percentage of men and women who say YES is the same; therefore, there is no gender discrepancy')\n",
    "    print(f'Total percentage is {p_yes}%')\n",
    "    \n",
    "else:\n",
    "    print('Gender might be relevant to the difference in percentages')"
   ]
  },
  {
   "cell_type": "code",
   "execution_count": null,
   "metadata": {},
   "outputs": [],
   "source": []
  }
 ],
 "metadata": {
  "kernelspec": {
   "display_name": "Python 3",
   "language": "python",
   "name": "python3"
  },
  "language_info": {
   "codemirror_mode": {
    "name": "ipython",
    "version": 3
   },
   "file_extension": ".py",
   "mimetype": "text/x-python",
   "name": "python",
   "nbconvert_exporter": "python",
   "pygments_lexer": "ipython3",
   "version": "3.7.7"
  }
 },
 "nbformat": 4,
 "nbformat_minor": 2
}
